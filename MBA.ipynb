{
 "cells": [
  {
   "cell_type": "markdown",
   "metadata": {},
   "source": [
    "## Reading Data"
   ]
  },
  {
   "cell_type": "code",
   "execution_count": 128,
   "metadata": {},
   "outputs": [],
   "source": [
    "import pandas as pd\n",
    "import numpy as np\n",
    "import matplotlib.pyplot as plt\n",
    "import seaborn as sns\n",
    "import sqlite3 as sql\n",
    "import pandas.io.sql as pds\n",
    "from sklearn.preprocessing import StandardScaler\n",
    "from sklearn.metrics import silhouette_score\n",
    "from mlxtend.frequent_patterns import apriori,association_rules"
   ]
  },
  {
   "cell_type": "code",
   "execution_count": 2,
   "metadata": {},
   "outputs": [],
   "source": [
    "data1 = pd.read_excel(\"online_retail_II.xlsx\",sheet_name = ['Year 2009-2010','Year 2010-2011'])"
   ]
  },
  {
   "cell_type": "code",
   "execution_count": 3,
   "metadata": {},
   "outputs": [],
   "source": [
    "# Combining the data in both the sheets into one dataset\n",
    "data = pd.concat([data1['Year 2009-2010'],data1['Year 2010-2011']]).reset_index(drop=True)\n",
    "data['CustomerID'] = data['Customer ID']\n",
    "data.drop('Customer ID',axis=1,inplace=True)"
   ]
  },
  {
   "cell_type": "code",
   "execution_count": 4,
   "metadata": {},
   "outputs": [
    {
     "data": {
      "text/html": [
       "<div>\n",
       "<style scoped>\n",
       "    .dataframe tbody tr th:only-of-type {\n",
       "        vertical-align: middle;\n",
       "    }\n",
       "\n",
       "    .dataframe tbody tr th {\n",
       "        vertical-align: top;\n",
       "    }\n",
       "\n",
       "    .dataframe thead th {\n",
       "        text-align: right;\n",
       "    }\n",
       "</style>\n",
       "<table border=\"1\" class=\"dataframe\">\n",
       "  <thead>\n",
       "    <tr style=\"text-align: right;\">\n",
       "      <th></th>\n",
       "      <th>Invoice</th>\n",
       "      <th>StockCode</th>\n",
       "      <th>Description</th>\n",
       "      <th>Quantity</th>\n",
       "      <th>InvoiceDate</th>\n",
       "      <th>Price</th>\n",
       "      <th>Country</th>\n",
       "      <th>CustomerID</th>\n",
       "    </tr>\n",
       "  </thead>\n",
       "  <tbody>\n",
       "    <tr>\n",
       "      <th>0</th>\n",
       "      <td>489434</td>\n",
       "      <td>85048</td>\n",
       "      <td>15CM CHRISTMAS GLASS BALL 20 LIGHTS</td>\n",
       "      <td>12</td>\n",
       "      <td>2009-12-01 07:45:00</td>\n",
       "      <td>6.95</td>\n",
       "      <td>United Kingdom</td>\n",
       "      <td>13085.0</td>\n",
       "    </tr>\n",
       "    <tr>\n",
       "      <th>1</th>\n",
       "      <td>489434</td>\n",
       "      <td>79323P</td>\n",
       "      <td>PINK CHERRY LIGHTS</td>\n",
       "      <td>12</td>\n",
       "      <td>2009-12-01 07:45:00</td>\n",
       "      <td>6.75</td>\n",
       "      <td>United Kingdom</td>\n",
       "      <td>13085.0</td>\n",
       "    </tr>\n",
       "    <tr>\n",
       "      <th>2</th>\n",
       "      <td>489434</td>\n",
       "      <td>79323W</td>\n",
       "      <td>WHITE CHERRY LIGHTS</td>\n",
       "      <td>12</td>\n",
       "      <td>2009-12-01 07:45:00</td>\n",
       "      <td>6.75</td>\n",
       "      <td>United Kingdom</td>\n",
       "      <td>13085.0</td>\n",
       "    </tr>\n",
       "    <tr>\n",
       "      <th>3</th>\n",
       "      <td>489434</td>\n",
       "      <td>22041</td>\n",
       "      <td>RECORD FRAME 7\" SINGLE SIZE</td>\n",
       "      <td>48</td>\n",
       "      <td>2009-12-01 07:45:00</td>\n",
       "      <td>2.10</td>\n",
       "      <td>United Kingdom</td>\n",
       "      <td>13085.0</td>\n",
       "    </tr>\n",
       "    <tr>\n",
       "      <th>4</th>\n",
       "      <td>489434</td>\n",
       "      <td>21232</td>\n",
       "      <td>STRAWBERRY CERAMIC TRINKET BOX</td>\n",
       "      <td>24</td>\n",
       "      <td>2009-12-01 07:45:00</td>\n",
       "      <td>1.25</td>\n",
       "      <td>United Kingdom</td>\n",
       "      <td>13085.0</td>\n",
       "    </tr>\n",
       "    <tr>\n",
       "      <th>...</th>\n",
       "      <td>...</td>\n",
       "      <td>...</td>\n",
       "      <td>...</td>\n",
       "      <td>...</td>\n",
       "      <td>...</td>\n",
       "      <td>...</td>\n",
       "      <td>...</td>\n",
       "      <td>...</td>\n",
       "    </tr>\n",
       "    <tr>\n",
       "      <th>1067366</th>\n",
       "      <td>581587</td>\n",
       "      <td>22899</td>\n",
       "      <td>CHILDREN'S APRON DOLLY GIRL</td>\n",
       "      <td>6</td>\n",
       "      <td>2011-12-09 12:50:00</td>\n",
       "      <td>2.10</td>\n",
       "      <td>France</td>\n",
       "      <td>12680.0</td>\n",
       "    </tr>\n",
       "    <tr>\n",
       "      <th>1067367</th>\n",
       "      <td>581587</td>\n",
       "      <td>23254</td>\n",
       "      <td>CHILDRENS CUTLERY DOLLY GIRL</td>\n",
       "      <td>4</td>\n",
       "      <td>2011-12-09 12:50:00</td>\n",
       "      <td>4.15</td>\n",
       "      <td>France</td>\n",
       "      <td>12680.0</td>\n",
       "    </tr>\n",
       "    <tr>\n",
       "      <th>1067368</th>\n",
       "      <td>581587</td>\n",
       "      <td>23255</td>\n",
       "      <td>CHILDRENS CUTLERY CIRCUS PARADE</td>\n",
       "      <td>4</td>\n",
       "      <td>2011-12-09 12:50:00</td>\n",
       "      <td>4.15</td>\n",
       "      <td>France</td>\n",
       "      <td>12680.0</td>\n",
       "    </tr>\n",
       "    <tr>\n",
       "      <th>1067369</th>\n",
       "      <td>581587</td>\n",
       "      <td>22138</td>\n",
       "      <td>BAKING SET 9 PIECE RETROSPOT</td>\n",
       "      <td>3</td>\n",
       "      <td>2011-12-09 12:50:00</td>\n",
       "      <td>4.95</td>\n",
       "      <td>France</td>\n",
       "      <td>12680.0</td>\n",
       "    </tr>\n",
       "    <tr>\n",
       "      <th>1067370</th>\n",
       "      <td>581587</td>\n",
       "      <td>POST</td>\n",
       "      <td>POSTAGE</td>\n",
       "      <td>1</td>\n",
       "      <td>2011-12-09 12:50:00</td>\n",
       "      <td>18.00</td>\n",
       "      <td>France</td>\n",
       "      <td>12680.0</td>\n",
       "    </tr>\n",
       "  </tbody>\n",
       "</table>\n",
       "<p>1067371 rows × 8 columns</p>\n",
       "</div>"
      ],
      "text/plain": [
       "        Invoice StockCode                          Description  Quantity  \\\n",
       "0        489434     85048  15CM CHRISTMAS GLASS BALL 20 LIGHTS        12   \n",
       "1        489434    79323P                   PINK CHERRY LIGHTS        12   \n",
       "2        489434    79323W                  WHITE CHERRY LIGHTS        12   \n",
       "3        489434     22041         RECORD FRAME 7\" SINGLE SIZE         48   \n",
       "4        489434     21232       STRAWBERRY CERAMIC TRINKET BOX        24   \n",
       "...         ...       ...                                  ...       ...   \n",
       "1067366  581587     22899         CHILDREN'S APRON DOLLY GIRL          6   \n",
       "1067367  581587     23254        CHILDRENS CUTLERY DOLLY GIRL          4   \n",
       "1067368  581587     23255      CHILDRENS CUTLERY CIRCUS PARADE         4   \n",
       "1067369  581587     22138        BAKING SET 9 PIECE RETROSPOT          3   \n",
       "1067370  581587      POST                              POSTAGE         1   \n",
       "\n",
       "                InvoiceDate  Price         Country  CustomerID  \n",
       "0       2009-12-01 07:45:00   6.95  United Kingdom     13085.0  \n",
       "1       2009-12-01 07:45:00   6.75  United Kingdom     13085.0  \n",
       "2       2009-12-01 07:45:00   6.75  United Kingdom     13085.0  \n",
       "3       2009-12-01 07:45:00   2.10  United Kingdom     13085.0  \n",
       "4       2009-12-01 07:45:00   1.25  United Kingdom     13085.0  \n",
       "...                     ...    ...             ...         ...  \n",
       "1067366 2011-12-09 12:50:00   2.10          France     12680.0  \n",
       "1067367 2011-12-09 12:50:00   4.15          France     12680.0  \n",
       "1067368 2011-12-09 12:50:00   4.15          France     12680.0  \n",
       "1067369 2011-12-09 12:50:00   4.95          France     12680.0  \n",
       "1067370 2011-12-09 12:50:00  18.00          France     12680.0  \n",
       "\n",
       "[1067371 rows x 8 columns]"
      ]
     },
     "execution_count": 4,
     "metadata": {},
     "output_type": "execute_result"
    }
   ],
   "source": [
    "data"
   ]
  },
  {
   "cell_type": "markdown",
   "metadata": {},
   "source": [
    "## Data Cleaning "
   ]
  },
  {
   "cell_type": "code",
   "execution_count": 5,
   "metadata": {},
   "outputs": [
    {
     "name": "stdout",
     "output_type": "stream",
     "text": [
      "<class 'pandas.core.frame.DataFrame'>\n",
      "RangeIndex: 1067371 entries, 0 to 1067370\n",
      "Data columns (total 8 columns):\n",
      " #   Column       Non-Null Count    Dtype         \n",
      "---  ------       --------------    -----         \n",
      " 0   Invoice      1067371 non-null  object        \n",
      " 1   StockCode    1067371 non-null  object        \n",
      " 2   Description  1062989 non-null  object        \n",
      " 3   Quantity     1067371 non-null  int64         \n",
      " 4   InvoiceDate  1067371 non-null  datetime64[ns]\n",
      " 5   Price        1067371 non-null  float64       \n",
      " 6   Country      1067371 non-null  object        \n",
      " 7   CustomerID   824364 non-null   float64       \n",
      "dtypes: datetime64[ns](1), float64(2), int64(1), object(4)\n",
      "memory usage: 65.1+ MB\n"
     ]
    }
   ],
   "source": [
    "data.info()"
   ]
  },
  {
   "cell_type": "code",
   "execution_count": 7,
   "metadata": {},
   "outputs": [],
   "source": [
    "#for i in range(0,len(data)):\n",
    " #   if len(data['StockCode'][i]) != 5:\n",
    "  #      print(data['StockCode'][i])"
   ]
  },
  {
   "cell_type": "code",
   "execution_count": 8,
   "metadata": {},
   "outputs": [
    {
     "data": {
      "text/plain": [
       "6"
      ]
     },
     "execution_count": 8,
     "metadata": {},
     "output_type": "execute_result"
    }
   ],
   "source": [
    "len(data['StockCode'][1])"
   ]
  },
  {
   "cell_type": "code",
   "execution_count": 9,
   "metadata": {},
   "outputs": [
    {
     "data": {
      "text/plain": [
       "5943"
      ]
     },
     "execution_count": 9,
     "metadata": {},
     "output_type": "execute_result"
    }
   ],
   "source": [
    "len(data['CustomerID'].unique())"
   ]
  },
  {
   "cell_type": "code",
   "execution_count": 10,
   "metadata": {},
   "outputs": [],
   "source": [
    "data.dropna(inplace=True)\n",
    "data.reset_index(drop=True,inplace=True)"
   ]
  },
  {
   "cell_type": "code",
   "execution_count": 11,
   "metadata": {},
   "outputs": [
    {
     "data": {
      "text/html": [
       "<div>\n",
       "<style scoped>\n",
       "    .dataframe tbody tr th:only-of-type {\n",
       "        vertical-align: middle;\n",
       "    }\n",
       "\n",
       "    .dataframe tbody tr th {\n",
       "        vertical-align: top;\n",
       "    }\n",
       "\n",
       "    .dataframe thead th {\n",
       "        text-align: right;\n",
       "    }\n",
       "</style>\n",
       "<table border=\"1\" class=\"dataframe\">\n",
       "  <thead>\n",
       "    <tr style=\"text-align: right;\">\n",
       "      <th></th>\n",
       "      <th>Quantity</th>\n",
       "      <th>Price</th>\n",
       "      <th>CustomerID</th>\n",
       "    </tr>\n",
       "  </thead>\n",
       "  <tbody>\n",
       "    <tr>\n",
       "      <th>count</th>\n",
       "      <td>824364.000000</td>\n",
       "      <td>824364.000000</td>\n",
       "      <td>824364.000000</td>\n",
       "    </tr>\n",
       "    <tr>\n",
       "      <th>mean</th>\n",
       "      <td>12.414574</td>\n",
       "      <td>3.676800</td>\n",
       "      <td>15324.638504</td>\n",
       "    </tr>\n",
       "    <tr>\n",
       "      <th>std</th>\n",
       "      <td>188.976099</td>\n",
       "      <td>70.241388</td>\n",
       "      <td>1697.464450</td>\n",
       "    </tr>\n",
       "    <tr>\n",
       "      <th>min</th>\n",
       "      <td>-80995.000000</td>\n",
       "      <td>0.000000</td>\n",
       "      <td>12346.000000</td>\n",
       "    </tr>\n",
       "    <tr>\n",
       "      <th>25%</th>\n",
       "      <td>2.000000</td>\n",
       "      <td>1.250000</td>\n",
       "      <td>13975.000000</td>\n",
       "    </tr>\n",
       "    <tr>\n",
       "      <th>50%</th>\n",
       "      <td>5.000000</td>\n",
       "      <td>1.950000</td>\n",
       "      <td>15255.000000</td>\n",
       "    </tr>\n",
       "    <tr>\n",
       "      <th>75%</th>\n",
       "      <td>12.000000</td>\n",
       "      <td>3.750000</td>\n",
       "      <td>16797.000000</td>\n",
       "    </tr>\n",
       "    <tr>\n",
       "      <th>max</th>\n",
       "      <td>80995.000000</td>\n",
       "      <td>38970.000000</td>\n",
       "      <td>18287.000000</td>\n",
       "    </tr>\n",
       "  </tbody>\n",
       "</table>\n",
       "</div>"
      ],
      "text/plain": [
       "            Quantity          Price     CustomerID\n",
       "count  824364.000000  824364.000000  824364.000000\n",
       "mean       12.414574       3.676800   15324.638504\n",
       "std       188.976099      70.241388    1697.464450\n",
       "min    -80995.000000       0.000000   12346.000000\n",
       "25%         2.000000       1.250000   13975.000000\n",
       "50%         5.000000       1.950000   15255.000000\n",
       "75%        12.000000       3.750000   16797.000000\n",
       "max     80995.000000   38970.000000   18287.000000"
      ]
     },
     "execution_count": 11,
     "metadata": {},
     "output_type": "execute_result"
    }
   ],
   "source": [
    "data.describe()"
   ]
  },
  {
   "cell_type": "code",
   "execution_count": 12,
   "metadata": {},
   "outputs": [],
   "source": [
    "# Dropping the rows where quantity is negative\n",
    "data = data[data['Quantity'] >= 0]"
   ]
  },
  {
   "cell_type": "code",
   "execution_count": 13,
   "metadata": {},
   "outputs": [
    {
     "data": {
      "text/html": [
       "<div>\n",
       "<style scoped>\n",
       "    .dataframe tbody tr th:only-of-type {\n",
       "        vertical-align: middle;\n",
       "    }\n",
       "\n",
       "    .dataframe tbody tr th {\n",
       "        vertical-align: top;\n",
       "    }\n",
       "\n",
       "    .dataframe thead th {\n",
       "        text-align: right;\n",
       "    }\n",
       "</style>\n",
       "<table border=\"1\" class=\"dataframe\">\n",
       "  <thead>\n",
       "    <tr style=\"text-align: right;\">\n",
       "      <th></th>\n",
       "      <th>Quantity</th>\n",
       "      <th>Price</th>\n",
       "      <th>CustomerID</th>\n",
       "    </tr>\n",
       "  </thead>\n",
       "  <tbody>\n",
       "    <tr>\n",
       "      <th>count</th>\n",
       "      <td>805620.000000</td>\n",
       "      <td>805620.000000</td>\n",
       "      <td>805620.000000</td>\n",
       "    </tr>\n",
       "    <tr>\n",
       "      <th>mean</th>\n",
       "      <td>13.307665</td>\n",
       "      <td>3.206279</td>\n",
       "      <td>15331.856250</td>\n",
       "    </tr>\n",
       "    <tr>\n",
       "      <th>std</th>\n",
       "      <td>144.306739</td>\n",
       "      <td>29.197901</td>\n",
       "      <td>1696.768395</td>\n",
       "    </tr>\n",
       "    <tr>\n",
       "      <th>min</th>\n",
       "      <td>1.000000</td>\n",
       "      <td>0.000000</td>\n",
       "      <td>12346.000000</td>\n",
       "    </tr>\n",
       "    <tr>\n",
       "      <th>25%</th>\n",
       "      <td>2.000000</td>\n",
       "      <td>1.250000</td>\n",
       "      <td>13982.000000</td>\n",
       "    </tr>\n",
       "    <tr>\n",
       "      <th>50%</th>\n",
       "      <td>5.000000</td>\n",
       "      <td>1.950000</td>\n",
       "      <td>15271.000000</td>\n",
       "    </tr>\n",
       "    <tr>\n",
       "      <th>75%</th>\n",
       "      <td>12.000000</td>\n",
       "      <td>3.750000</td>\n",
       "      <td>16805.000000</td>\n",
       "    </tr>\n",
       "    <tr>\n",
       "      <th>max</th>\n",
       "      <td>80995.000000</td>\n",
       "      <td>10953.500000</td>\n",
       "      <td>18287.000000</td>\n",
       "    </tr>\n",
       "  </tbody>\n",
       "</table>\n",
       "</div>"
      ],
      "text/plain": [
       "            Quantity          Price     CustomerID\n",
       "count  805620.000000  805620.000000  805620.000000\n",
       "mean       13.307665       3.206279   15331.856250\n",
       "std       144.306739      29.197901    1696.768395\n",
       "min         1.000000       0.000000   12346.000000\n",
       "25%         2.000000       1.250000   13982.000000\n",
       "50%         5.000000       1.950000   15271.000000\n",
       "75%        12.000000       3.750000   16805.000000\n",
       "max     80995.000000   10953.500000   18287.000000"
      ]
     },
     "execution_count": 13,
     "metadata": {},
     "output_type": "execute_result"
    }
   ],
   "source": [
    "data.describe()"
   ]
  },
  {
   "cell_type": "code",
   "execution_count": 14,
   "metadata": {},
   "outputs": [
    {
     "data": {
      "text/html": [
       "<div>\n",
       "<style scoped>\n",
       "    .dataframe tbody tr th:only-of-type {\n",
       "        vertical-align: middle;\n",
       "    }\n",
       "\n",
       "    .dataframe tbody tr th {\n",
       "        vertical-align: top;\n",
       "    }\n",
       "\n",
       "    .dataframe thead th {\n",
       "        text-align: right;\n",
       "    }\n",
       "</style>\n",
       "<table border=\"1\" class=\"dataframe\">\n",
       "  <thead>\n",
       "    <tr style=\"text-align: right;\">\n",
       "      <th></th>\n",
       "      <th>Invoice</th>\n",
       "      <th>StockCode</th>\n",
       "      <th>Description</th>\n",
       "      <th>Quantity</th>\n",
       "      <th>InvoiceDate</th>\n",
       "      <th>Price</th>\n",
       "      <th>Country</th>\n",
       "      <th>CustomerID</th>\n",
       "    </tr>\n",
       "  </thead>\n",
       "  <tbody>\n",
       "    <tr>\n",
       "      <th>3754</th>\n",
       "      <td>489825</td>\n",
       "      <td>22076</td>\n",
       "      <td>6 RIBBONS EMPIRE</td>\n",
       "      <td>12</td>\n",
       "      <td>2009-12-02 13:34:00</td>\n",
       "      <td>0.0</td>\n",
       "      <td>United Kingdom</td>\n",
       "      <td>16126.0</td>\n",
       "    </tr>\n",
       "    <tr>\n",
       "      <th>4889</th>\n",
       "      <td>489998</td>\n",
       "      <td>48185</td>\n",
       "      <td>DOOR MAT FAIRY CAKE</td>\n",
       "      <td>2</td>\n",
       "      <td>2009-12-03 11:19:00</td>\n",
       "      <td>0.0</td>\n",
       "      <td>United Kingdom</td>\n",
       "      <td>15658.0</td>\n",
       "    </tr>\n",
       "    <tr>\n",
       "      <th>12998</th>\n",
       "      <td>490727</td>\n",
       "      <td>M</td>\n",
       "      <td>Manual</td>\n",
       "      <td>1</td>\n",
       "      <td>2009-12-07 16:38:00</td>\n",
       "      <td>0.0</td>\n",
       "      <td>United Kingdom</td>\n",
       "      <td>17231.0</td>\n",
       "    </tr>\n",
       "    <tr>\n",
       "      <th>14558</th>\n",
       "      <td>490961</td>\n",
       "      <td>22065</td>\n",
       "      <td>CHRISTMAS PUDDING TRINKET POT</td>\n",
       "      <td>1</td>\n",
       "      <td>2009-12-08 15:25:00</td>\n",
       "      <td>0.0</td>\n",
       "      <td>United Kingdom</td>\n",
       "      <td>14108.0</td>\n",
       "    </tr>\n",
       "    <tr>\n",
       "      <th>14559</th>\n",
       "      <td>490961</td>\n",
       "      <td>22142</td>\n",
       "      <td>CHRISTMAS CRAFT WHITE FAIRY</td>\n",
       "      <td>12</td>\n",
       "      <td>2009-12-08 15:25:00</td>\n",
       "      <td>0.0</td>\n",
       "      <td>United Kingdom</td>\n",
       "      <td>14108.0</td>\n",
       "    </tr>\n",
       "    <tr>\n",
       "      <th>...</th>\n",
       "      <td>...</td>\n",
       "      <td>...</td>\n",
       "      <td>...</td>\n",
       "      <td>...</td>\n",
       "      <td>...</td>\n",
       "      <td>...</td>\n",
       "      <td>...</td>\n",
       "      <td>...</td>\n",
       "    </tr>\n",
       "    <tr>\n",
       "      <th>778388</th>\n",
       "      <td>577129</td>\n",
       "      <td>22464</td>\n",
       "      <td>HANGING METAL HEART LANTERN</td>\n",
       "      <td>4</td>\n",
       "      <td>2011-11-17 19:52:00</td>\n",
       "      <td>0.0</td>\n",
       "      <td>United Kingdom</td>\n",
       "      <td>15602.0</td>\n",
       "    </tr>\n",
       "    <tr>\n",
       "      <th>778766</th>\n",
       "      <td>577168</td>\n",
       "      <td>M</td>\n",
       "      <td>Manual</td>\n",
       "      <td>1</td>\n",
       "      <td>2011-11-18 10:42:00</td>\n",
       "      <td>0.0</td>\n",
       "      <td>Germany</td>\n",
       "      <td>12603.0</td>\n",
       "    </tr>\n",
       "    <tr>\n",
       "      <th>779842</th>\n",
       "      <td>577314</td>\n",
       "      <td>23407</td>\n",
       "      <td>SET OF 2 TRAYS HOME SWEET HOME</td>\n",
       "      <td>2</td>\n",
       "      <td>2011-11-18 13:23:00</td>\n",
       "      <td>0.0</td>\n",
       "      <td>Norway</td>\n",
       "      <td>12444.0</td>\n",
       "    </tr>\n",
       "    <tr>\n",
       "      <th>784382</th>\n",
       "      <td>577696</td>\n",
       "      <td>M</td>\n",
       "      <td>Manual</td>\n",
       "      <td>1</td>\n",
       "      <td>2011-11-21 11:57:00</td>\n",
       "      <td>0.0</td>\n",
       "      <td>United Kingdom</td>\n",
       "      <td>16406.0</td>\n",
       "    </tr>\n",
       "    <tr>\n",
       "      <th>796428</th>\n",
       "      <td>578841</td>\n",
       "      <td>84826</td>\n",
       "      <td>ASSTD DESIGN 3D PAPER STICKERS</td>\n",
       "      <td>12540</td>\n",
       "      <td>2011-11-25 15:57:00</td>\n",
       "      <td>0.0</td>\n",
       "      <td>United Kingdom</td>\n",
       "      <td>13256.0</td>\n",
       "    </tr>\n",
       "  </tbody>\n",
       "</table>\n",
       "<p>71 rows × 8 columns</p>\n",
       "</div>"
      ],
      "text/plain": [
       "       Invoice StockCode                     Description  Quantity  \\\n",
       "3754    489825     22076              6 RIBBONS EMPIRE          12   \n",
       "4889    489998     48185             DOOR MAT FAIRY CAKE         2   \n",
       "12998   490727         M                          Manual         1   \n",
       "14558   490961     22065  CHRISTMAS PUDDING TRINKET POT          1   \n",
       "14559   490961     22142    CHRISTMAS CRAFT WHITE FAIRY         12   \n",
       "...        ...       ...                             ...       ...   \n",
       "778388  577129     22464     HANGING METAL HEART LANTERN         4   \n",
       "778766  577168         M                          Manual         1   \n",
       "779842  577314     23407  SET OF 2 TRAYS HOME SWEET HOME         2   \n",
       "784382  577696         M                          Manual         1   \n",
       "796428  578841     84826  ASSTD DESIGN 3D PAPER STICKERS     12540   \n",
       "\n",
       "               InvoiceDate  Price         Country  CustomerID  \n",
       "3754   2009-12-02 13:34:00    0.0  United Kingdom     16126.0  \n",
       "4889   2009-12-03 11:19:00    0.0  United Kingdom     15658.0  \n",
       "12998  2009-12-07 16:38:00    0.0  United Kingdom     17231.0  \n",
       "14558  2009-12-08 15:25:00    0.0  United Kingdom     14108.0  \n",
       "14559  2009-12-08 15:25:00    0.0  United Kingdom     14108.0  \n",
       "...                    ...    ...             ...         ...  \n",
       "778388 2011-11-17 19:52:00    0.0  United Kingdom     15602.0  \n",
       "778766 2011-11-18 10:42:00    0.0         Germany     12603.0  \n",
       "779842 2011-11-18 13:23:00    0.0          Norway     12444.0  \n",
       "784382 2011-11-21 11:57:00    0.0  United Kingdom     16406.0  \n",
       "796428 2011-11-25 15:57:00    0.0  United Kingdom     13256.0  \n",
       "\n",
       "[71 rows x 8 columns]"
      ]
     },
     "execution_count": 14,
     "metadata": {},
     "output_type": "execute_result"
    }
   ],
   "source": [
    "data[data['Price'] == 0]"
   ]
  },
  {
   "cell_type": "code",
   "execution_count": 15,
   "metadata": {},
   "outputs": [],
   "source": [
    "data = data[data['Country'] == 'United Kingdom']"
   ]
  },
  {
   "cell_type": "markdown",
   "metadata": {},
   "source": [
    "## Data Analysis"
   ]
  },
  {
   "cell_type": "code",
   "execution_count": 16,
   "metadata": {},
   "outputs": [],
   "source": [
    "con = sql.connect(\"retail.db\")\n",
    "con.execute(\"DROP TABLE retail\")\n",
    "data.to_sql(\"retail\",con) "
   ]
  },
  {
   "cell_type": "code",
   "execution_count": 17,
   "metadata": {},
   "outputs": [
    {
     "data": {
      "image/png": "[encoded data removed]",
      "text/plain": [
       "<Figure size 504x504 with 1 Axes>"
      ]
     },
     "metadata": {
      "needs_background": "light"
     },
     "output_type": "display_data"
    }
   ],
   "source": [
    "temp = pds.read_sql(\"SELECT SUM(Quantity) AS TotalQuantity,Country FROM retail GROUP BY Country ORDER BY TotalQuantity DESC\",con)\n",
    "plt.figure(figsize = (7,7))\n",
    "sns.barplot(y ='Country',x = 'TotalQuantity',data = temp)\n",
    "plt.title('Total quantity Sold In Each Country')\n",
    "plt.show()"
   ]
  },
  {
   "cell_type": "code",
   "execution_count": 18,
   "metadata": {},
   "outputs": [
    {
     "data": {
      "image/png": "[encoded data removed]",
      "text/plain": [
       "<Figure size 360x360 with 1 Axes>"
      ]
     },
     "metadata": {
      "needs_background": "light"
     },
     "output_type": "display_data"
    }
   ],
   "source": [
    "temp = pds.read_sql(\"SELECT strftime('%m', InvoiceDate) AS Month, SUM(Quantity) AS TotalQuantity FROM RETAIL GROUP BY Month ORDER BY TotalQuantity DESC\",con)\n",
    "plt.figure(figsize=(5,5))\n",
    "sns.barplot(y = 'TotalQuantity',x = 'Month',data = temp)\n",
    "plt.title(\"Total Quantity Sold Per month\")\n",
    "plt.show()"
   ]
  },
  {
   "cell_type": "markdown",
   "metadata": {},
   "source": [
    "Most quantity of items were bought during the month of November"
   ]
  },
  {
   "cell_type": "code",
   "execution_count": 19,
   "metadata": {},
   "outputs": [
    {
     "data": {
      "image/png": "[encoded data removed]",
      "text/plain": [
       "<Figure size 360x360 with 1 Axes>"
      ]
     },
     "metadata": {
      "needs_background": "light"
     },
     "output_type": "display_data"
    }
   ],
   "source": [
    "temp = pds.read_sql(\"SELECT strftime('%w', InvoiceDate) AS Day, Total(Quantity) AS TotalQuantity FROM RETAIL GROUP BY Day ORDER BY TotalQuantity DESC\",con)\n",
    "plt.figure(figsize=(5,5))\n",
    "sns.barplot(y = 'TotalQuantity',x = 'Day',data = temp)\n",
    "plt.title(\" Total Quantity Sold Per Day\")\n",
    "plt.show()"
   ]
  },
  {
   "cell_type": "markdown",
   "metadata": {},
   "source": [
    "Most quantity of items were bought on Thursday"
   ]
  },
  {
   "cell_type": "code",
   "execution_count": 20,
   "metadata": {},
   "outputs": [
    {
     "data": {
      "image/png": "[encoded data removed]",
      "text/plain": [
       "<Figure size 504x504 with 1 Axes>"
      ]
     },
     "metadata": {
      "needs_background": "light"
     },
     "output_type": "display_data"
    }
   ],
   "source": [
    "temp = pds.read_sql(\"SELECT strftime('%H', InvoiceDate) AS Hour, SUM(Quantity) AS TotalQuantity FROM RETAIL GROUP BY Hour ORDER BY TotalQuantity DESC\",con)\n",
    "plt.figure(figsize=(7,7))\n",
    "sns.barplot(y = 'TotalQuantity',x = 'Hour',data = temp)\n",
    "plt.title(\" Total Quantity Sold Each Hour\")\n",
    "plt.show()"
   ]
  },
  {
   "cell_type": "markdown",
   "metadata": {},
   "source": [
    "Most quantity of items were bought between 12 pm and 1 pm"
   ]
  },
  {
   "cell_type": "code",
   "execution_count": 21,
   "metadata": {},
   "outputs": [
    {
     "data": {
      "image/png": "[encoded data removed]",
      "text/plain": [
       "<Figure size 576x576 with 1 Axes>"
      ]
     },
     "metadata": {
      "needs_background": "light"
     },
     "output_type": "display_data"
    }
   ],
   "source": [
    "temp = pds.read_sql(\"SELECT COUNT(Invoice) AS Purchase,Country FROM retail GROUP BY Country ORDER BY Purchase DESC\",con)\n",
    "plt.figure(figsize = (8,8))\n",
    "sns.barplot(y ='Country',x = 'Purchase',data = temp) #data = temp[temp['Order_'] > 100]) \n",
    "plt.title(\" Total Number of Purchases Made In Each Country\")\n",
    "plt.show()"
   ]
  },
  {
   "cell_type": "code",
   "execution_count": 22,
   "metadata": {},
   "outputs": [
    {
     "data": {
      "image/png": "[encoded data removed]",
      "text/plain": [
       "<Figure size 504x504 with 1 Axes>"
      ]
     },
     "metadata": {
      "needs_background": "light"
     },
     "output_type": "display_data"
    }
   ],
   "source": [
    "temp = pds.read_sql(\"SELECT COUNT(CustomerID),Description, StockCode FROM retail GROUP BY StockCode ORDER BY COUNT(CustomerID) DESC \",con)\n",
    "plt.figure(figsize = (7,7))\n",
    "sns.barplot(y = 'Description',x = 'COUNT(CustomerID)',data = temp.iloc[0:25,])\n",
    "plt.title(\" 25 Most Popular Items Bought By Customers\")\n",
    "plt.show()"
   ]
  },
  {
   "cell_type": "code",
   "execution_count": 23,
   "metadata": {},
   "outputs": [
    {
     "data": {
      "image/png": "[encoded data removed]",
      "text/plain": [
       "<Figure size 504x504 with 1 Axes>"
      ]
     },
     "metadata": {
      "needs_background": "light"
     },
     "output_type": "display_data"
    }
   ],
   "source": [
    "temp = pds.read_sql(\"SELECT strftime('%m', InvoiceDate) AS Month,COUNT(CustomerID),Description, StockCode FROM retail WHERE Month = '11'  GROUP BY StockCode ORDER BY COUNT(CustomerID) DESC \",con)\n",
    "plt.figure(figsize = (7,7))\n",
    "sns.barplot(y = 'Description',x = 'COUNT(CustomerID)',data = temp.iloc[0:25,])\n",
    "plt.title(\" 25 Most Popular Items Bought By Customers In The Month Of November\")\n",
    "plt.show()\n"
   ]
  },
  {
   "cell_type": "code",
   "execution_count": 24,
   "metadata": {},
   "outputs": [
    {
     "data": {
      "image/png": "[encoded data removed]",
      "text/plain": [
       "<Figure size 504x504 with 1 Axes>"
      ]
     },
     "metadata": {
      "needs_background": "light"
     },
     "output_type": "display_data"
    }
   ],
   "source": [
    "temp = pds.read_sql(\"SELECT strftime('%w', InvoiceDate) AS Day,COUNT(CustomerID),Description, StockCode FROM retail WHERE Day = '4'  GROUP BY StockCode ORDER BY COUNT(CustomerID) DESC \",con)\n",
    "plt.figure(figsize = (7,7))\n",
    "sns.barplot(y = 'Description',x = 'COUNT(CustomerID)',data = temp.iloc[0:25,])\n",
    "plt.title(\" 25 Most Popular Items Bought By Customers On Thursday \")\n",
    "plt.show()"
   ]
  },
  {
   "cell_type": "code",
   "execution_count": 25,
   "metadata": {},
   "outputs": [
    {
     "data": {
      "image/png": "[encoded data removed]",
      "text/plain": [
       "<Figure size 504x504 with 1 Axes>"
      ]
     },
     "metadata": {
      "needs_background": "light"
     },
     "output_type": "display_data"
    }
   ],
   "source": [
    "temp = pds.read_sql(\"SELECT strftime('%H', InvoiceDate) AS Hour,COUNT(CustomerID),Description, StockCode FROM retail WHERE Hour = '12'  GROUP BY StockCode ORDER BY COUNT(CustomerID) DESC \",con)\n",
    "plt.figure(figsize = (7,7))\n",
    "sns.barplot(y = 'Description',x = 'COUNT(CustomerID)',data = temp.iloc[0:25,])\n",
    "plt.title(\" 25 Most Popular Items Bought By Customers At 12 PM \")\n",
    "plt.show()"
   ]
  },
  {
   "cell_type": "code",
   "execution_count": 26,
   "metadata": {},
   "outputs": [
    {
     "data": {
      "image/png": "[encoded data removed]",
      "text/plain": [
       "<Figure size 1440x1440 with 1 Axes>"
      ]
     },
     "metadata": {
      "needs_background": "light"
     },
     "output_type": "display_data"
    }
   ],
   "source": [
    "temp = pds.read_sql(\"SELECT CustomerID, COUNT(Quantity*Price) AS Expenditure FROM retail GROUP BY CustomerID ORDER BY Expenditure DESC\",con)\n",
    "plt.figure(figsize=(20,20))\n",
    "sns.barplot(y = 'Expenditure', x = 'CustomerID', data = temp.iloc[0:25,])\n",
    "plt.title(\" 25 Customers Spending The Most\")\n",
    "plt.show()"
   ]
  },
  {
   "cell_type": "markdown",
   "metadata": {},
   "source": [
    "Customer with ID 17841 has spent the most "
   ]
  },
  {
   "cell_type": "code",
   "execution_count": 27,
   "metadata": {},
   "outputs": [
    {
     "data": {
      "image/png": "[encoded data removed]",
      "text/plain": [
       "<Figure size 504x504 with 1 Axes>"
      ]
     },
     "metadata": {
      "needs_background": "light"
     },
     "output_type": "display_data"
    }
   ],
   "source": [
    "temp = pds.read_sql(\" SELECT Description, Quantity FROM retail WHERE CustomerID = 17841 GROUP BY Description ORDER BY Quantity DESC\",con)\n",
    "plt.figure(figsize = (7,7))\n",
    "sns.barplot(x = 'Quantity',y = 'Description',data = temp.iloc[0:25,])\n",
    "plt.title(\" 25 Most Purchases Made By Customer with ID = 17841\")\n",
    "plt.show()"
   ]
  },
  {
   "cell_type": "code",
   "execution_count": 28,
   "metadata": {},
   "outputs": [
    {
     "data": {
      "text/plain": [
       "count    725296.000000\n",
       "mean          3.056583\n",
       "std          25.164725\n",
       "min           0.000000\n",
       "25%           1.250000\n",
       "50%           1.950000\n",
       "75%           3.750000\n",
       "max       10953.500000\n",
       "Name: Price, dtype: float64"
      ]
     },
     "execution_count": 28,
     "metadata": {},
     "output_type": "execute_result"
    }
   ],
   "source": [
    "data['Price'].describe()"
   ]
  },
  {
   "cell_type": "markdown",
   "metadata": {},
   "source": [
    "75% of the items have price less than 3.75 units "
   ]
  },
  {
   "cell_type": "code",
   "execution_count": 29,
   "metadata": {},
   "outputs": [
    {
     "data": {
      "image/png": "[encoded data removed]",
      "text/plain": [
       "<Figure size 432x288 with 1 Axes>"
      ]
     },
     "metadata": {
      "needs_background": "light"
     },
     "output_type": "display_data"
    }
   ],
   "source": [
    "sns.boxplot(data['Price'])\n",
    "plt.show()"
   ]
  },
  {
   "cell_type": "code",
   "execution_count": 30,
   "metadata": {},
   "outputs": [
    {
     "data": {
      "image/png": "[encoded data removed]",
      "text/plain": [
       "<Figure size 432x288 with 1 Axes>"
      ]
     },
     "metadata": {
      "needs_background": "light"
     },
     "output_type": "display_data"
    }
   ],
   "source": [
    "sns.boxplot(data['Price'][data['Price']<3.75])\n",
    "plt.show()"
   ]
  },
  {
   "cell_type": "code",
   "execution_count": 31,
   "metadata": {},
   "outputs": [
    {
     "data": {
      "text/plain": [
       "<matplotlib.axes._subplots.AxesSubplot at 0x251827fd7c8>"
      ]
     },
     "execution_count": 31,
     "metadata": {},
     "output_type": "execute_result"
    },
    {
     "data": {
      "image/png": "[encoded data removed]",
      "text/plain": [
       "<Figure size 432x288 with 1 Axes>"
      ]
     },
     "metadata": {
      "needs_background": "light"
     },
     "output_type": "display_data"
    }
   ],
   "source": [
    "data['Price'][data['Price'] < 3.75].hist()"
   ]
  },
  {
   "cell_type": "code",
   "execution_count": 32,
   "metadata": {},
   "outputs": [
    {
     "data": {
      "text/plain": [
       "<matplotlib.axes._subplots.AxesSubplot at 0x25181986b08>"
      ]
     },
     "execution_count": 32,
     "metadata": {},
     "output_type": "execute_result"
    },
    {
     "data": {
      "image/png": "[encoded data removed]",
      "text/plain": [
       "<Figure size 432x288 with 1 Axes>"
      ]
     },
     "metadata": {
      "needs_background": "light"
     },
     "output_type": "display_data"
    }
   ],
   "source": [
    "data['Price'][data['Price'] > 3.75].hist()"
   ]
  },
  {
   "cell_type": "code",
   "execution_count": 33,
   "metadata": {},
   "outputs": [
    {
     "data": {
      "text/html": [
       "<div>\n",
       "<style scoped>\n",
       "    .dataframe tbody tr th:only-of-type {\n",
       "        vertical-align: middle;\n",
       "    }\n",
       "\n",
       "    .dataframe tbody tr th {\n",
       "        vertical-align: top;\n",
       "    }\n",
       "\n",
       "    .dataframe thead th {\n",
       "        text-align: right;\n",
       "    }\n",
       "</style>\n",
       "<table border=\"1\" class=\"dataframe\">\n",
       "  <thead>\n",
       "    <tr style=\"text-align: right;\">\n",
       "      <th></th>\n",
       "      <th>Description</th>\n",
       "      <th>Price</th>\n",
       "    </tr>\n",
       "  </thead>\n",
       "  <tbody>\n",
       "    <tr>\n",
       "      <th>0</th>\n",
       "      <td>Manual</td>\n",
       "      <td>10953.50</td>\n",
       "    </tr>\n",
       "    <tr>\n",
       "      <th>1</th>\n",
       "      <td>Manual</td>\n",
       "      <td>10468.80</td>\n",
       "    </tr>\n",
       "    <tr>\n",
       "      <th>2</th>\n",
       "      <td>Manual</td>\n",
       "      <td>8985.60</td>\n",
       "    </tr>\n",
       "    <tr>\n",
       "      <th>3</th>\n",
       "      <td>POSTAGE</td>\n",
       "      <td>8142.75</td>\n",
       "    </tr>\n",
       "    <tr>\n",
       "      <th>4</th>\n",
       "      <td>Manual</td>\n",
       "      <td>3155.95</td>\n",
       "    </tr>\n",
       "    <tr>\n",
       "      <th>...</th>\n",
       "      <td>...</td>\n",
       "      <td>...</td>\n",
       "    </tr>\n",
       "    <tr>\n",
       "      <th>156536</th>\n",
       "      <td>SET/3 VANILLA SCENTED CANDLE IN BOX</td>\n",
       "      <td>3.81</td>\n",
       "    </tr>\n",
       "    <tr>\n",
       "      <th>156537</th>\n",
       "      <td>SET/3 VANILLA SCENTED CANDLE IN BOX</td>\n",
       "      <td>3.81</td>\n",
       "    </tr>\n",
       "    <tr>\n",
       "      <th>156538</th>\n",
       "      <td>SET/3 OCEAN SCENT CANDLE JEWEL BOX</td>\n",
       "      <td>3.81</td>\n",
       "    </tr>\n",
       "    <tr>\n",
       "      <th>156539</th>\n",
       "      <td>SET/3 ROSE CANDLE IN JEWELLED BOX</td>\n",
       "      <td>3.81</td>\n",
       "    </tr>\n",
       "    <tr>\n",
       "      <th>156540</th>\n",
       "      <td>ROSE SCENT CANDLE IN JEWELLED BOX</td>\n",
       "      <td>3.81</td>\n",
       "    </tr>\n",
       "  </tbody>\n",
       "</table>\n",
       "<p>156541 rows × 2 columns</p>\n",
       "</div>"
      ],
      "text/plain": [
       "                                Description     Price\n",
       "0                                    Manual  10953.50\n",
       "1                                    Manual  10468.80\n",
       "2                                    Manual   8985.60\n",
       "3                                   POSTAGE   8142.75\n",
       "4                                    Manual   3155.95\n",
       "...                                     ...       ...\n",
       "156536  SET/3 VANILLA SCENTED CANDLE IN BOX      3.81\n",
       "156537  SET/3 VANILLA SCENTED CANDLE IN BOX      3.81\n",
       "156538   SET/3 OCEAN SCENT CANDLE JEWEL BOX      3.81\n",
       "156539    SET/3 ROSE CANDLE IN JEWELLED BOX      3.81\n",
       "156540    ROSE SCENT CANDLE IN JEWELLED BOX      3.81\n",
       "\n",
       "[156541 rows x 2 columns]"
      ]
     },
     "execution_count": 33,
     "metadata": {},
     "output_type": "execute_result"
    }
   ],
   "source": [
    "temp = pds.read_sql(\"SELECT Description, Price FROM retail WHERE Price > 3.75 ORDER BY Price DESC\",con)\n",
    "temp"
   ]
  },
  {
   "cell_type": "code",
   "execution_count": 34,
   "metadata": {},
   "outputs": [
    {
     "data": {
      "image/png": "[encoded data removed]",
      "text/plain": [
       "<Figure size 360x360 with 1 Axes>"
      ]
     },
     "metadata": {
      "needs_background": "light"
     },
     "output_type": "display_data"
    }
   ],
   "source": [
    "temp = pds.read_sql(\"SELECT strftime('%m', InvoiceDate) AS Month, COUNT(Price) AS Frequency FROM RETAIL WHERE Price = 0 GROUP BY Month ORDER BY Frequency DESC\",con)\n",
    "plt.figure(figsize=(5,5))\n",
    "sns.barplot(y = 'Frequency',x = 'Month',data = temp)\n",
    "plt.title(\"Frequency Of Free Items Sold Per month\")\n",
    "plt.show()"
   ]
  },
  {
   "cell_type": "code",
   "execution_count": null,
   "metadata": {},
   "outputs": [],
   "source": []
  },
  {
   "cell_type": "markdown",
   "metadata": {},
   "source": [
    "## Creating Customer Basket"
   ]
  },
  {
   "cell_type": "code",
   "execution_count": 35,
   "metadata": {},
   "outputs": [],
   "source": [
    "# Creating a Pivot Table \n",
    "basket = data.pivot_table(values = 'Quantity', columns = 'Description', index = 'Invoice',aggfunc = np.sum).fillna(0)"
   ]
  },
  {
   "cell_type": "code",
   "execution_count": 36,
   "metadata": {},
   "outputs": [],
   "source": [
    "#\n",
    "basket = basket.applymap(lambda x : 1 if x>0 else 0)"
   ]
  },
  {
   "cell_type": "code",
   "execution_count": 37,
   "metadata": {},
   "outputs": [],
   "source": [
    "# \n",
    "basket = basket[(basket > 0).sum(axis=1) >=2]"
   ]
  },
  {
   "cell_type": "code",
   "execution_count": null,
   "metadata": {},
   "outputs": [],
   "source": []
  },
  {
   "cell_type": "markdown",
   "metadata": {},
   "source": [
    "## Applying Apriori Algorithm"
   ]
  },
  {
   "cell_type": "code",
   "execution_count": 38,
   "metadata": {},
   "outputs": [],
   "source": [
    "frequent_items = apriori(basket,min_support = 0.025, use_colnames = True).sort_values('support',ascending = False).reset_index(drop=True)"
   ]
  },
  {
   "cell_type": "code",
   "execution_count": 39,
   "metadata": {},
   "outputs": [
    {
     "data": {
      "text/html": [
       "<div>\n",
       "<style scoped>\n",
       "    .dataframe tbody tr th:only-of-type {\n",
       "        vertical-align: middle;\n",
       "    }\n",
       "\n",
       "    .dataframe tbody tr th {\n",
       "        vertical-align: top;\n",
       "    }\n",
       "\n",
       "    .dataframe thead th {\n",
       "        text-align: right;\n",
       "    }\n",
       "</style>\n",
       "<table border=\"1\" class=\"dataframe\">\n",
       "  <thead>\n",
       "    <tr style=\"text-align: right;\">\n",
       "      <th></th>\n",
       "      <th>support</th>\n",
       "      <th>itemsets</th>\n",
       "    </tr>\n",
       "  </thead>\n",
       "  <tbody>\n",
       "    <tr>\n",
       "      <th>0</th>\n",
       "      <td>0.151016</td>\n",
       "      <td>(WHITE HANGING HEART T-LIGHT HOLDER)</td>\n",
       "    </tr>\n",
       "    <tr>\n",
       "      <th>1</th>\n",
       "      <td>0.091207</td>\n",
       "      <td>(REGENCY CAKESTAND 3 TIER)</td>\n",
       "    </tr>\n",
       "    <tr>\n",
       "      <th>2</th>\n",
       "      <td>0.080947</td>\n",
       "      <td>(ASSORTED COLOUR BIRD ORNAMENT)</td>\n",
       "    </tr>\n",
       "    <tr>\n",
       "      <th>3</th>\n",
       "      <td>0.076823</td>\n",
       "      <td>(JUMBO BAG RED RETROSPOT)</td>\n",
       "    </tr>\n",
       "    <tr>\n",
       "      <th>4</th>\n",
       "      <td>0.062277</td>\n",
       "      <td>(PARTY BUNTING)</td>\n",
       "    </tr>\n",
       "    <tr>\n",
       "      <th>...</th>\n",
       "      <td>...</td>\n",
       "      <td>...</td>\n",
       "    </tr>\n",
       "    <tr>\n",
       "      <th>110</th>\n",
       "      <td>0.025261</td>\n",
       "      <td>(HAND WARMER UNION JACK)</td>\n",
       "    </tr>\n",
       "    <tr>\n",
       "      <th>111</th>\n",
       "      <td>0.025132</td>\n",
       "      <td>(PARTY METAL SIGN )</td>\n",
       "    </tr>\n",
       "    <tr>\n",
       "      <th>112</th>\n",
       "      <td>0.025067</td>\n",
       "      <td>(HOT WATER BOTTLE I AM SO POORLY)</td>\n",
       "    </tr>\n",
       "    <tr>\n",
       "      <th>113</th>\n",
       "      <td>0.025034</td>\n",
       "      <td>(CREAM SWEETHEART MINI CHEST)</td>\n",
       "    </tr>\n",
       "    <tr>\n",
       "      <th>114</th>\n",
       "      <td>0.025034</td>\n",
       "      <td>(JAM MAKING SET WITH JARS)</td>\n",
       "    </tr>\n",
       "  </tbody>\n",
       "</table>\n",
       "<p>115 rows × 2 columns</p>\n",
       "</div>"
      ],
      "text/plain": [
       "      support                              itemsets\n",
       "0    0.151016  (WHITE HANGING HEART T-LIGHT HOLDER)\n",
       "1    0.091207            (REGENCY CAKESTAND 3 TIER)\n",
       "2    0.080947       (ASSORTED COLOUR BIRD ORNAMENT)\n",
       "3    0.076823             (JUMBO BAG RED RETROSPOT)\n",
       "4    0.062277                       (PARTY BUNTING)\n",
       "..        ...                                   ...\n",
       "110  0.025261              (HAND WARMER UNION JACK)\n",
       "111  0.025132                   (PARTY METAL SIGN )\n",
       "112  0.025067     (HOT WATER BOTTLE I AM SO POORLY)\n",
       "113  0.025034         (CREAM SWEETHEART MINI CHEST)\n",
       "114  0.025034            (JAM MAKING SET WITH JARS)\n",
       "\n",
       "[115 rows x 2 columns]"
      ]
     },
     "execution_count": 39,
     "metadata": {},
     "output_type": "execute_result"
    }
   ],
   "source": [
    "frequent_items"
   ]
  },
  {
   "cell_type": "code",
   "execution_count": 40,
   "metadata": {},
   "outputs": [
    {
     "data": {
      "text/html": [
       "<div>\n",
       "<style scoped>\n",
       "    .dataframe tbody tr th:only-of-type {\n",
       "        vertical-align: middle;\n",
       "    }\n",
       "\n",
       "    .dataframe tbody tr th {\n",
       "        vertical-align: top;\n",
       "    }\n",
       "\n",
       "    .dataframe thead th {\n",
       "        text-align: right;\n",
       "    }\n",
       "</style>\n",
       "<table border=\"1\" class=\"dataframe\">\n",
       "  <thead>\n",
       "    <tr style=\"text-align: right;\">\n",
       "      <th></th>\n",
       "      <th>antecedents</th>\n",
       "      <th>consequents</th>\n",
       "      <th>antecedent support</th>\n",
       "      <th>consequent support</th>\n",
       "      <th>support</th>\n",
       "      <th>confidence</th>\n",
       "      <th>lift</th>\n",
       "      <th>leverage</th>\n",
       "      <th>conviction</th>\n",
       "    </tr>\n",
       "  </thead>\n",
       "  <tbody>\n",
       "    <tr>\n",
       "      <th>0</th>\n",
       "      <td>(WOODEN PICTURE FRAME WHITE FINISH)</td>\n",
       "      <td>(WOODEN FRAME ANTIQUE WHITE )</td>\n",
       "      <td>0.052114</td>\n",
       "      <td>0.055685</td>\n",
       "      <td>0.031560</td>\n",
       "      <td>0.605607</td>\n",
       "      <td>10.875510</td>\n",
       "      <td>0.028659</td>\n",
       "      <td>2.394352</td>\n",
       "    </tr>\n",
       "    <tr>\n",
       "      <th>1</th>\n",
       "      <td>(WOODEN FRAME ANTIQUE WHITE )</td>\n",
       "      <td>(WOODEN PICTURE FRAME WHITE FINISH)</td>\n",
       "      <td>0.055685</td>\n",
       "      <td>0.052114</td>\n",
       "      <td>0.031560</td>\n",
       "      <td>0.566764</td>\n",
       "      <td>10.875510</td>\n",
       "      <td>0.028659</td>\n",
       "      <td>2.187920</td>\n",
       "    </tr>\n",
       "    <tr>\n",
       "      <th>2</th>\n",
       "      <td>(HEART OF WICKER LARGE)</td>\n",
       "      <td>(HEART OF WICKER SMALL)</td>\n",
       "      <td>0.055750</td>\n",
       "      <td>0.055848</td>\n",
       "      <td>0.027762</td>\n",
       "      <td>0.497962</td>\n",
       "      <td>8.916407</td>\n",
       "      <td>0.024648</td>\n",
       "      <td>1.880637</td>\n",
       "    </tr>\n",
       "    <tr>\n",
       "      <th>3</th>\n",
       "      <td>(HEART OF WICKER SMALL)</td>\n",
       "      <td>(HEART OF WICKER LARGE)</td>\n",
       "      <td>0.055848</td>\n",
       "      <td>0.055750</td>\n",
       "      <td>0.027762</td>\n",
       "      <td>0.497093</td>\n",
       "      <td>8.916407</td>\n",
       "      <td>0.024648</td>\n",
       "      <td>1.877583</td>\n",
       "    </tr>\n",
       "    <tr>\n",
       "      <th>4</th>\n",
       "      <td>(WHITE HANGING HEART T-LIGHT HOLDER)</td>\n",
       "      <td>(RED HANGING HEART T-LIGHT HOLDER)</td>\n",
       "      <td>0.151016</td>\n",
       "      <td>0.050198</td>\n",
       "      <td>0.035522</td>\n",
       "      <td>0.235218</td>\n",
       "      <td>4.685803</td>\n",
       "      <td>0.027941</td>\n",
       "      <td>1.241925</td>\n",
       "    </tr>\n",
       "    <tr>\n",
       "      <th>5</th>\n",
       "      <td>(RED HANGING HEART T-LIGHT HOLDER)</td>\n",
       "      <td>(WHITE HANGING HEART T-LIGHT HOLDER)</td>\n",
       "      <td>0.050198</td>\n",
       "      <td>0.151016</td>\n",
       "      <td>0.035522</td>\n",
       "      <td>0.707633</td>\n",
       "      <td>4.685803</td>\n",
       "      <td>0.027941</td>\n",
       "      <td>2.903825</td>\n",
       "    </tr>\n",
       "  </tbody>\n",
       "</table>\n",
       "</div>"
      ],
      "text/plain": [
       "                            antecedents                           consequents  \\\n",
       "0   (WOODEN PICTURE FRAME WHITE FINISH)         (WOODEN FRAME ANTIQUE WHITE )   \n",
       "1         (WOODEN FRAME ANTIQUE WHITE )   (WOODEN PICTURE FRAME WHITE FINISH)   \n",
       "2               (HEART OF WICKER LARGE)               (HEART OF WICKER SMALL)   \n",
       "3               (HEART OF WICKER SMALL)               (HEART OF WICKER LARGE)   \n",
       "4  (WHITE HANGING HEART T-LIGHT HOLDER)    (RED HANGING HEART T-LIGHT HOLDER)   \n",
       "5    (RED HANGING HEART T-LIGHT HOLDER)  (WHITE HANGING HEART T-LIGHT HOLDER)   \n",
       "\n",
       "   antecedent support  consequent support   support  confidence       lift  \\\n",
       "0            0.052114            0.055685  0.031560    0.605607  10.875510   \n",
       "1            0.055685            0.052114  0.031560    0.566764  10.875510   \n",
       "2            0.055750            0.055848  0.027762    0.497962   8.916407   \n",
       "3            0.055848            0.055750  0.027762    0.497093   8.916407   \n",
       "4            0.151016            0.050198  0.035522    0.235218   4.685803   \n",
       "5            0.050198            0.151016  0.035522    0.707633   4.685803   \n",
       "\n",
       "   leverage  conviction  \n",
       "0  0.028659    2.394352  \n",
       "1  0.028659    2.187920  \n",
       "2  0.024648    1.880637  \n",
       "3  0.024648    1.877583  \n",
       "4  0.027941    1.241925  \n",
       "5  0.027941    2.903825  "
      ]
     },
     "execution_count": 40,
     "metadata": {},
     "output_type": "execute_result"
    }
   ],
   "source": [
    "association_rules(frequent_items,metric = 'lift').sort_values('lift',ascending = False).reset_index(drop=True)"
   ]
  },
  {
   "cell_type": "markdown",
   "metadata": {},
   "source": [
    "## Clustering Customers\n"
   ]
  },
  {
   "cell_type": "code",
   "execution_count": 46,
   "metadata": {},
   "outputs": [
    {
     "name": "stdout",
     "output_type": "stream",
     "text": [
      "<class 'pandas.core.frame.DataFrame'>\n",
      "Int64Index: 725296 entries, 0 to 824347\n",
      "Data columns (total 8 columns):\n",
      " #   Column       Non-Null Count   Dtype         \n",
      "---  ------       --------------   -----         \n",
      " 0   Invoice      725296 non-null  object        \n",
      " 1   StockCode    725296 non-null  object        \n",
      " 2   Description  725296 non-null  object        \n",
      " 3   Quantity     725296 non-null  int64         \n",
      " 4   InvoiceDate  725296 non-null  datetime64[ns]\n",
      " 5   Price        725296 non-null  float64       \n",
      " 6   Country      725296 non-null  object        \n",
      " 7   CustomerID   725296 non-null  float64       \n",
      "dtypes: datetime64[ns](1), float64(2), int64(1), object(4)\n",
      "memory usage: 49.8+ MB\n"
     ]
    }
   ],
   "source": [
    "data.info()"
   ]
  },
  {
   "cell_type": "markdown",
   "metadata": {},
   "source": [
    "There are no null values in Customer ID."
   ]
  },
  {
   "cell_type": "code",
   "execution_count": 47,
   "metadata": {},
   "outputs": [],
   "source": [
    "# Creating a column with the total amount spent\n",
    "data['Amount'] = data['Quantity'] * data['Price']"
   ]
  },
  {
   "cell_type": "code",
   "execution_count": 63,
   "metadata": {},
   "outputs": [
    {
     "data": {
      "text/html": [
       "<div>\n",
       "<style scoped>\n",
       "    .dataframe tbody tr th:only-of-type {\n",
       "        vertical-align: middle;\n",
       "    }\n",
       "\n",
       "    .dataframe tbody tr th {\n",
       "        vertical-align: top;\n",
       "    }\n",
       "\n",
       "    .dataframe thead th {\n",
       "        text-align: right;\n",
       "    }\n",
       "</style>\n",
       "<table border=\"1\" class=\"dataframe\">\n",
       "  <thead>\n",
       "    <tr style=\"text-align: right;\">\n",
       "      <th></th>\n",
       "      <th>CustomerID</th>\n",
       "      <th>Amount</th>\n",
       "    </tr>\n",
       "  </thead>\n",
       "  <tbody>\n",
       "    <tr>\n",
       "      <th>0</th>\n",
       "      <td>12346.0</td>\n",
       "      <td>77556.46</td>\n",
       "    </tr>\n",
       "    <tr>\n",
       "      <th>1</th>\n",
       "      <td>12608.0</td>\n",
       "      <td>415.79</td>\n",
       "    </tr>\n",
       "    <tr>\n",
       "      <th>2</th>\n",
       "      <td>12745.0</td>\n",
       "      <td>723.85</td>\n",
       "    </tr>\n",
       "    <tr>\n",
       "      <th>3</th>\n",
       "      <td>12746.0</td>\n",
       "      <td>254.55</td>\n",
       "    </tr>\n",
       "    <tr>\n",
       "      <th>4</th>\n",
       "      <td>12747.0</td>\n",
       "      <td>9276.54</td>\n",
       "    </tr>\n",
       "    <tr>\n",
       "      <th>...</th>\n",
       "      <td>...</td>\n",
       "      <td>...</td>\n",
       "    </tr>\n",
       "    <tr>\n",
       "      <th>5348</th>\n",
       "      <td>18283.0</td>\n",
       "      <td>2736.65</td>\n",
       "    </tr>\n",
       "    <tr>\n",
       "      <th>5349</th>\n",
       "      <td>18284.0</td>\n",
       "      <td>461.68</td>\n",
       "    </tr>\n",
       "    <tr>\n",
       "      <th>5350</th>\n",
       "      <td>18285.0</td>\n",
       "      <td>427.00</td>\n",
       "    </tr>\n",
       "    <tr>\n",
       "      <th>5351</th>\n",
       "      <td>18286.0</td>\n",
       "      <td>1296.43</td>\n",
       "    </tr>\n",
       "    <tr>\n",
       "      <th>5352</th>\n",
       "      <td>18287.0</td>\n",
       "      <td>4182.99</td>\n",
       "    </tr>\n",
       "  </tbody>\n",
       "</table>\n",
       "<p>5353 rows × 2 columns</p>\n",
       "</div>"
      ],
      "text/plain": [
       "      CustomerID    Amount\n",
       "0        12346.0  77556.46\n",
       "1        12608.0    415.79\n",
       "2        12745.0    723.85\n",
       "3        12746.0    254.55\n",
       "4        12747.0   9276.54\n",
       "...          ...       ...\n",
       "5348     18283.0   2736.65\n",
       "5349     18284.0    461.68\n",
       "5350     18285.0    427.00\n",
       "5351     18286.0   1296.43\n",
       "5352     18287.0   4182.99\n",
       "\n",
       "[5353 rows x 2 columns]"
      ]
     },
     "execution_count": 63,
     "metadata": {},
     "output_type": "execute_result"
    }
   ],
   "source": [
    "# Creating a dataframe with unique customer IDs and the total amount they have spent\n",
    "customer = data.groupby('CustomerID')['Amount'].sum()\n",
    "customer = customer.reset_index()\n",
    "customer"
   ]
  },
  {
   "cell_type": "code",
   "execution_count": 64,
   "metadata": {},
   "outputs": [
    {
     "data": {
      "text/html": [
       "<div>\n",
       "<style scoped>\n",
       "    .dataframe tbody tr th:only-of-type {\n",
       "        vertical-align: middle;\n",
       "    }\n",
       "\n",
       "    .dataframe tbody tr th {\n",
       "        vertical-align: top;\n",
       "    }\n",
       "\n",
       "    .dataframe thead th {\n",
       "        text-align: right;\n",
       "    }\n",
       "</style>\n",
       "<table border=\"1\" class=\"dataframe\">\n",
       "  <thead>\n",
       "    <tr style=\"text-align: right;\">\n",
       "      <th></th>\n",
       "      <th>CustomerID</th>\n",
       "      <th>Invoice</th>\n",
       "    </tr>\n",
       "  </thead>\n",
       "  <tbody>\n",
       "    <tr>\n",
       "      <th>0</th>\n",
       "      <td>12346.0</td>\n",
       "      <td>34</td>\n",
       "    </tr>\n",
       "    <tr>\n",
       "      <th>1</th>\n",
       "      <td>12608.0</td>\n",
       "      <td>16</td>\n",
       "    </tr>\n",
       "    <tr>\n",
       "      <th>2</th>\n",
       "      <td>12745.0</td>\n",
       "      <td>22</td>\n",
       "    </tr>\n",
       "    <tr>\n",
       "      <th>3</th>\n",
       "      <td>12746.0</td>\n",
       "      <td>17</td>\n",
       "    </tr>\n",
       "    <tr>\n",
       "      <th>4</th>\n",
       "      <td>12747.0</td>\n",
       "      <td>257</td>\n",
       "    </tr>\n",
       "    <tr>\n",
       "      <th>...</th>\n",
       "      <td>...</td>\n",
       "      <td>...</td>\n",
       "    </tr>\n",
       "    <tr>\n",
       "      <th>5348</th>\n",
       "      <td>18283.0</td>\n",
       "      <td>986</td>\n",
       "    </tr>\n",
       "    <tr>\n",
       "      <th>5349</th>\n",
       "      <td>18284.0</td>\n",
       "      <td>28</td>\n",
       "    </tr>\n",
       "    <tr>\n",
       "      <th>5350</th>\n",
       "      <td>18285.0</td>\n",
       "      <td>12</td>\n",
       "    </tr>\n",
       "    <tr>\n",
       "      <th>5351</th>\n",
       "      <td>18286.0</td>\n",
       "      <td>67</td>\n",
       "    </tr>\n",
       "    <tr>\n",
       "      <th>5352</th>\n",
       "      <td>18287.0</td>\n",
       "      <td>155</td>\n",
       "    </tr>\n",
       "  </tbody>\n",
       "</table>\n",
       "<p>5353 rows × 2 columns</p>\n",
       "</div>"
      ],
      "text/plain": [
       "      CustomerID  Invoice\n",
       "0        12346.0       34\n",
       "1        12608.0       16\n",
       "2        12745.0       22\n",
       "3        12746.0       17\n",
       "4        12747.0      257\n",
       "...          ...      ...\n",
       "5348     18283.0      986\n",
       "5349     18284.0       28\n",
       "5350     18285.0       12\n",
       "5351     18286.0       67\n",
       "5352     18287.0      155\n",
       "\n",
       "[5353 rows x 2 columns]"
      ]
     },
     "execution_count": 64,
     "metadata": {},
     "output_type": "execute_result"
    }
   ],
   "source": [
    "# Finding out the frequency of each customer visit to the store\n",
    "freq = data.groupby('CustomerID')['Invoice'].count()\n",
    "freq = freq.reset_index()\n",
    "freq"
   ]
  },
  {
   "cell_type": "code",
   "execution_count": 80,
   "metadata": {},
   "outputs": [
    {
     "data": {
      "text/html": [
       "<div>\n",
       "<style scoped>\n",
       "    .dataframe tbody tr th:only-of-type {\n",
       "        vertical-align: middle;\n",
       "    }\n",
       "\n",
       "    .dataframe tbody tr th {\n",
       "        vertical-align: top;\n",
       "    }\n",
       "\n",
       "    .dataframe thead th {\n",
       "        text-align: right;\n",
       "    }\n",
       "</style>\n",
       "<table border=\"1\" class=\"dataframe\">\n",
       "  <thead>\n",
       "    <tr style=\"text-align: right;\">\n",
       "      <th></th>\n",
       "      <th>CustomerID</th>\n",
       "      <th>Invoice</th>\n",
       "      <th>Amount</th>\n",
       "    </tr>\n",
       "  </thead>\n",
       "  <tbody>\n",
       "    <tr>\n",
       "      <th>0</th>\n",
       "      <td>12346.0</td>\n",
       "      <td>34</td>\n",
       "      <td>77556.46</td>\n",
       "    </tr>\n",
       "    <tr>\n",
       "      <th>1</th>\n",
       "      <td>12608.0</td>\n",
       "      <td>16</td>\n",
       "      <td>415.79</td>\n",
       "    </tr>\n",
       "    <tr>\n",
       "      <th>2</th>\n",
       "      <td>12745.0</td>\n",
       "      <td>22</td>\n",
       "      <td>723.85</td>\n",
       "    </tr>\n",
       "    <tr>\n",
       "      <th>3</th>\n",
       "      <td>12746.0</td>\n",
       "      <td>17</td>\n",
       "      <td>254.55</td>\n",
       "    </tr>\n",
       "    <tr>\n",
       "      <th>4</th>\n",
       "      <td>12747.0</td>\n",
       "      <td>257</td>\n",
       "      <td>9276.54</td>\n",
       "    </tr>\n",
       "    <tr>\n",
       "      <th>...</th>\n",
       "      <td>...</td>\n",
       "      <td>...</td>\n",
       "      <td>...</td>\n",
       "    </tr>\n",
       "    <tr>\n",
       "      <th>5348</th>\n",
       "      <td>18283.0</td>\n",
       "      <td>986</td>\n",
       "      <td>2736.65</td>\n",
       "    </tr>\n",
       "    <tr>\n",
       "      <th>5349</th>\n",
       "      <td>18284.0</td>\n",
       "      <td>28</td>\n",
       "      <td>461.68</td>\n",
       "    </tr>\n",
       "    <tr>\n",
       "      <th>5350</th>\n",
       "      <td>18285.0</td>\n",
       "      <td>12</td>\n",
       "      <td>427.00</td>\n",
       "    </tr>\n",
       "    <tr>\n",
       "      <th>5351</th>\n",
       "      <td>18286.0</td>\n",
       "      <td>67</td>\n",
       "      <td>1296.43</td>\n",
       "    </tr>\n",
       "    <tr>\n",
       "      <th>5352</th>\n",
       "      <td>18287.0</td>\n",
       "      <td>155</td>\n",
       "      <td>4182.99</td>\n",
       "    </tr>\n",
       "  </tbody>\n",
       "</table>\n",
       "<p>5353 rows × 3 columns</p>\n",
       "</div>"
      ],
      "text/plain": [
       "      CustomerID  Invoice    Amount\n",
       "0        12346.0       34  77556.46\n",
       "1        12608.0       16    415.79\n",
       "2        12745.0       22    723.85\n",
       "3        12746.0       17    254.55\n",
       "4        12747.0      257   9276.54\n",
       "...          ...      ...       ...\n",
       "5348     18283.0      986   2736.65\n",
       "5349     18284.0       28    461.68\n",
       "5350     18285.0       12    427.00\n",
       "5351     18286.0       67   1296.43\n",
       "5352     18287.0      155   4182.99\n",
       "\n",
       "[5353 rows x 3 columns]"
      ]
     },
     "execution_count": 80,
     "metadata": {},
     "output_type": "execute_result"
    }
   ],
   "source": [
    "# Merging both dataframes on CustomerID\n",
    "customer_det = pd.merge(freq,customer,on = 'CustomerID')\n",
    "customer_det"
   ]
  },
  {
   "cell_type": "code",
   "execution_count": 84,
   "metadata": {},
   "outputs": [
    {
     "data": {
      "text/html": [
       "<div>\n",
       "<style scoped>\n",
       "    .dataframe tbody tr th:only-of-type {\n",
       "        vertical-align: middle;\n",
       "    }\n",
       "\n",
       "    .dataframe tbody tr th {\n",
       "        vertical-align: top;\n",
       "    }\n",
       "\n",
       "    .dataframe thead th {\n",
       "        text-align: right;\n",
       "    }\n",
       "</style>\n",
       "<table border=\"1\" class=\"dataframe\">\n",
       "  <thead>\n",
       "    <tr style=\"text-align: right;\">\n",
       "      <th></th>\n",
       "      <th>CustomerID</th>\n",
       "      <th>Invoice</th>\n",
       "      <th>Amount</th>\n",
       "    </tr>\n",
       "  </thead>\n",
       "  <tbody>\n",
       "    <tr>\n",
       "      <th>count</th>\n",
       "      <td>5353.000000</td>\n",
       "      <td>5353.000000</td>\n",
       "      <td>5353.000000</td>\n",
       "    </tr>\n",
       "    <tr>\n",
       "      <th>mean</th>\n",
       "      <td>15556.524566</td>\n",
       "      <td>135.493368</td>\n",
       "      <td>2750.447883</td>\n",
       "    </tr>\n",
       "    <tr>\n",
       "      <th>std</th>\n",
       "      <td>1581.187812</td>\n",
       "      <td>325.997871</td>\n",
       "      <td>12077.255964</td>\n",
       "    </tr>\n",
       "    <tr>\n",
       "      <th>min</th>\n",
       "      <td>12346.000000</td>\n",
       "      <td>1.000000</td>\n",
       "      <td>0.000000</td>\n",
       "    </tr>\n",
       "    <tr>\n",
       "      <th>25%</th>\n",
       "      <td>14190.000000</td>\n",
       "      <td>20.000000</td>\n",
       "      <td>335.520000</td>\n",
       "    </tr>\n",
       "    <tr>\n",
       "      <th>50%</th>\n",
       "      <td>15564.000000</td>\n",
       "      <td>53.000000</td>\n",
       "      <td>848.710000</td>\n",
       "    </tr>\n",
       "    <tr>\n",
       "      <th>75%</th>\n",
       "      <td>16922.000000</td>\n",
       "      <td>142.000000</td>\n",
       "      <td>2212.280000</td>\n",
       "    </tr>\n",
       "    <tr>\n",
       "      <th>max</th>\n",
       "      <td>18287.000000</td>\n",
       "      <td>12890.000000</td>\n",
       "      <td>608821.650000</td>\n",
       "    </tr>\n",
       "  </tbody>\n",
       "</table>\n",
       "</div>"
      ],
      "text/plain": [
       "         CustomerID       Invoice         Amount\n",
       "count   5353.000000   5353.000000    5353.000000\n",
       "mean   15556.524566    135.493368    2750.447883\n",
       "std     1581.187812    325.997871   12077.255964\n",
       "min    12346.000000      1.000000       0.000000\n",
       "25%    14190.000000     20.000000     335.520000\n",
       "50%    15564.000000     53.000000     848.710000\n",
       "75%    16922.000000    142.000000    2212.280000\n",
       "max    18287.000000  12890.000000  608821.650000"
      ]
     },
     "execution_count": 84,
     "metadata": {},
     "output_type": "execute_result"
    }
   ],
   "source": [
    "customer_det.describe()"
   ]
  },
  {
   "cell_type": "code",
   "execution_count": 72,
   "metadata": {},
   "outputs": [
    {
     "data": {
      "image/png": "[encoded data removed]",
      "text/plain": [
       "<Figure size 432x288 with 1 Axes>"
      ]
     },
     "metadata": {
      "needs_background": "light"
     },
     "output_type": "display_data"
    }
   ],
   "source": [
    "sns.boxplot(customer_det['Amount'])\n",
    "plt.show()"
   ]
  },
  {
   "cell_type": "markdown",
   "metadata": {},
   "source": [
    "There are a lot of outliers present."
   ]
  },
  {
   "cell_type": "code",
   "execution_count": 85,
   "metadata": {},
   "outputs": [],
   "source": [
    "from sklearn.preprocessing import StandardScaler\n",
    "scaler = StandardScaler()\n",
    "scaled = scaler.fit_transform(customer_det.drop('CustomerID',axis=1)) \n",
    "scaled = pd.DataFrame(scaled,columns = ['Invoice','Amount'])\n",
    "scaled"
   ]
  },
  {
   "cell_type": "code",
   "execution_count": 95,
   "metadata": {},
   "outputs": [],
   "source": [
    "from sklearn.cluster import KMeans\n",
    "from sklearn.metrics import silhouette_score\n",
    "scores = []\n",
    "silhouette = {}\n",
    "for i in range(2,10):\n",
    "    kmeans = KMeans(n_clusters = i, max_iter = 40).fit(scaled)\n",
    "    cluster_labels = kmeans.labels_\n",
    "    silhouette[i] = silhouette_score(scaled,cluster_labels)\n",
    "    scores.append(kmeans.inertia_)"
   ]
  },
  {
   "cell_type": "code",
   "execution_count": 96,
   "metadata": {},
   "outputs": [
    {
     "data": {
      "text/plain": [
       "[<matplotlib.lines.Line2D at 0x25182aec4c8>]"
      ]
     },
     "execution_count": 96,
     "metadata": {},
     "output_type": "execute_result"
    },
    {
     "data": {
      "image/png": "[encoded data removed]",
      "text/plain": [
       "<Figure size 432x288 with 1 Axes>"
      ]
     },
     "metadata": {
      "needs_background": "light"
     },
     "output_type": "display_data"
    }
   ],
   "source": [
    "plt.plot(range(2,10,1), scores)"
   ]
  },
  {
   "cell_type": "code",
   "execution_count": 97,
   "metadata": {},
   "outputs": [
    {
     "data": {
      "text/plain": [
       "{2: 0.9604823432834292,\n",
       " 3: 0.954516872303037,\n",
       " 4: 0.8589329244403713,\n",
       " 5: 0.8058260360436921,\n",
       " 6: 0.7070876559721815,\n",
       " 7: 0.7022828787825602,\n",
       " 8: 0.6967098373059339,\n",
       " 9: 0.6986667985637257}"
      ]
     },
     "execution_count": 97,
     "metadata": {},
     "output_type": "execute_result"
    }
   ],
   "source": [
    "silhouette"
   ]
  },
  {
   "cell_type": "code",
   "execution_count": 1,
   "metadata": {},
   "outputs": [
    {
     "ename": "NameError",
     "evalue": "name 'KMeans' is not defined",
     "output_type": "error",
     "traceback": [
      "\u001b[1;31m---------------------------------------------------------------------------\u001b[0m",
      "\u001b[1;31mNameError\u001b[0m                                 Traceback (most recent call last)",
      "\u001b[1;32m<ipython-input-1-9fd56ef787bd>\u001b[0m in \u001b[0;36m<module>\u001b[1;34m\u001b[0m\n\u001b[0;32m      1\u001b[0m \u001b[1;31m# Final Model\u001b[0m\u001b[1;33m\u001b[0m\u001b[1;33m\u001b[0m\u001b[1;33m\u001b[0m\u001b[0m\n\u001b[0;32m      2\u001b[0m \u001b[1;33m\u001b[0m\u001b[0m\n\u001b[1;32m----> 3\u001b[1;33m \u001b[0mkmeans\u001b[0m \u001b[1;33m=\u001b[0m \u001b[0mKMeans\u001b[0m\u001b[1;33m(\u001b[0m\u001b[0mn_clusters\u001b[0m \u001b[1;33m=\u001b[0m \u001b[1;36m3\u001b[0m\u001b[1;33m)\u001b[0m\u001b[1;33m.\u001b[0m\u001b[0mfit\u001b[0m\u001b[1;33m(\u001b[0m\u001b[0mscaled\u001b[0m\u001b[1;33m)\u001b[0m\u001b[1;33m\u001b[0m\u001b[1;33m\u001b[0m\u001b[0m\n\u001b[0m\u001b[0;32m      4\u001b[0m \u001b[0mcluster_labels\u001b[0m \u001b[1;33m=\u001b[0m \u001b[0mkmeans\u001b[0m\u001b[1;33m.\u001b[0m\u001b[0mlabels_\u001b[0m\u001b[1;33m\u001b[0m\u001b[1;33m\u001b[0m\u001b[0m\n\u001b[0;32m      5\u001b[0m \u001b[0mcustomer_det\u001b[0m\u001b[1;33m[\u001b[0m\u001b[1;34m'Cluster'\u001b[0m\u001b[1;33m]\u001b[0m \u001b[1;33m=\u001b[0m \u001b[0mcluster_labels\u001b[0m\u001b[1;33m\u001b[0m\u001b[1;33m\u001b[0m\u001b[0m\n",
      "\u001b[1;31mNameError\u001b[0m: name 'KMeans' is not defined"
     ]
    }
   ],
   "source": [
    "# Final Model\n",
    "\n",
    "kmeans = KMeans(n_clusters = 3).fit(scaled)\n",
    "cluster_labels = kmeans.labels_\n",
    "customer_det['Cluster'] = cluster_labels"
   ]
  },
  {
   "cell_type": "code",
   "execution_count": 103,
   "metadata": {},
   "outputs": [
    {
     "data": {
      "text/html": [
       "<div>\n",
       "<style scoped>\n",
       "    .dataframe tbody tr th:only-of-type {\n",
       "        vertical-align: middle;\n",
       "    }\n",
       "\n",
       "    .dataframe tbody tr th {\n",
       "        vertical-align: top;\n",
       "    }\n",
       "\n",
       "    .dataframe thead th {\n",
       "        text-align: right;\n",
       "    }\n",
       "</style>\n",
       "<table border=\"1\" class=\"dataframe\">\n",
       "  <thead>\n",
       "    <tr style=\"text-align: right;\">\n",
       "      <th></th>\n",
       "      <th>CustomerID</th>\n",
       "      <th>Invoice</th>\n",
       "      <th>Amount</th>\n",
       "      <th>Cluster</th>\n",
       "    </tr>\n",
       "  </thead>\n",
       "  <tbody>\n",
       "    <tr>\n",
       "      <th>5</th>\n",
       "      <td>12748.0</td>\n",
       "      <td>7230</td>\n",
       "      <td>56599.39</td>\n",
       "      <td>1</td>\n",
       "    </tr>\n",
       "    <tr>\n",
       "      <th>262</th>\n",
       "      <td>13081.0</td>\n",
       "      <td>2358</td>\n",
       "      <td>59205.15</td>\n",
       "      <td>1</td>\n",
       "    </tr>\n",
       "    <tr>\n",
       "      <th>270</th>\n",
       "      <td>13089.0</td>\n",
       "      <td>3363</td>\n",
       "      <td>116737.86</td>\n",
       "      <td>1</td>\n",
       "    </tr>\n",
       "    <tr>\n",
       "      <th>858</th>\n",
       "      <td>13694.0</td>\n",
       "      <td>1525</td>\n",
       "      <td>196482.81</td>\n",
       "      <td>1</td>\n",
       "    </tr>\n",
       "    <tr>\n",
       "      <th>1246</th>\n",
       "      <td>14096.0</td>\n",
       "      <td>5111</td>\n",
       "      <td>65164.79</td>\n",
       "      <td>1</td>\n",
       "    </tr>\n",
       "    <tr>\n",
       "      <th>1444</th>\n",
       "      <td>14298.0</td>\n",
       "      <td>2864</td>\n",
       "      <td>91194.49</td>\n",
       "      <td>1</td>\n",
       "    </tr>\n",
       "    <tr>\n",
       "      <th>1744</th>\n",
       "      <td>14606.0</td>\n",
       "      <td>6566</td>\n",
       "      <td>30861.06</td>\n",
       "      <td>1</td>\n",
       "    </tr>\n",
       "    <tr>\n",
       "      <th>2159</th>\n",
       "      <td>15039.0</td>\n",
       "      <td>2792</td>\n",
       "      <td>40031.43</td>\n",
       "      <td>1</td>\n",
       "    </tr>\n",
       "    <tr>\n",
       "      <th>2181</th>\n",
       "      <td>15061.0</td>\n",
       "      <td>987</td>\n",
       "      <td>137818.52</td>\n",
       "      <td>1</td>\n",
       "    </tr>\n",
       "    <tr>\n",
       "      <th>2430</th>\n",
       "      <td>15311.0</td>\n",
       "      <td>4434</td>\n",
       "      <td>116771.16</td>\n",
       "      <td>1</td>\n",
       "    </tr>\n",
       "    <tr>\n",
       "      <th>3135</th>\n",
       "      <td>16029.0</td>\n",
       "      <td>383</td>\n",
       "      <td>122209.14</td>\n",
       "      <td>1</td>\n",
       "    </tr>\n",
       "    <tr>\n",
       "      <th>3545</th>\n",
       "      <td>16446.0</td>\n",
       "      <td>3</td>\n",
       "      <td>168472.50</td>\n",
       "      <td>1</td>\n",
       "    </tr>\n",
       "    <tr>\n",
       "      <th>3779</th>\n",
       "      <td>16684.0</td>\n",
       "      <td>718</td>\n",
       "      <td>147142.77</td>\n",
       "      <td>1</td>\n",
       "    </tr>\n",
       "    <tr>\n",
       "      <th>4530</th>\n",
       "      <td>17450.0</td>\n",
       "      <td>425</td>\n",
       "      <td>246973.09</td>\n",
       "      <td>1</td>\n",
       "    </tr>\n",
       "    <tr>\n",
       "      <th>4588</th>\n",
       "      <td>17511.0</td>\n",
       "      <td>1911</td>\n",
       "      <td>175603.55</td>\n",
       "      <td>1</td>\n",
       "    </tr>\n",
       "    <tr>\n",
       "      <th>4910</th>\n",
       "      <td>17841.0</td>\n",
       "      <td>12890</td>\n",
       "      <td>70884.07</td>\n",
       "      <td>1</td>\n",
       "    </tr>\n",
       "    <tr>\n",
       "      <th>4918</th>\n",
       "      <td>17850.0</td>\n",
       "      <td>2796</td>\n",
       "      <td>56600.08</td>\n",
       "      <td>1</td>\n",
       "    </tr>\n",
       "    <tr>\n",
       "      <th>5016</th>\n",
       "      <td>17949.0</td>\n",
       "      <td>157</td>\n",
       "      <td>118628.08</td>\n",
       "      <td>1</td>\n",
       "    </tr>\n",
       "    <tr>\n",
       "      <th>5168</th>\n",
       "      <td>18102.0</td>\n",
       "      <td>1058</td>\n",
       "      <td>608821.65</td>\n",
       "      <td>1</td>\n",
       "    </tr>\n",
       "  </tbody>\n",
       "</table>\n",
       "</div>"
      ],
      "text/plain": [
       "      CustomerID  Invoice     Amount  Cluster\n",
       "5        12748.0     7230   56599.39        1\n",
       "262      13081.0     2358   59205.15        1\n",
       "270      13089.0     3363  116737.86        1\n",
       "858      13694.0     1525  196482.81        1\n",
       "1246     14096.0     5111   65164.79        1\n",
       "1444     14298.0     2864   91194.49        1\n",
       "1744     14606.0     6566   30861.06        1\n",
       "2159     15039.0     2792   40031.43        1\n",
       "2181     15061.0      987  137818.52        1\n",
       "2430     15311.0     4434  116771.16        1\n",
       "3135     16029.0      383  122209.14        1\n",
       "3545     16446.0        3  168472.50        1\n",
       "3779     16684.0      718  147142.77        1\n",
       "4530     17450.0      425  246973.09        1\n",
       "4588     17511.0     1911  175603.55        1\n",
       "4910     17841.0    12890   70884.07        1\n",
       "4918     17850.0     2796   56600.08        1\n",
       "5016     17949.0      157  118628.08        1\n",
       "5168     18102.0     1058  608821.65        1"
      ]
     },
     "execution_count": 103,
     "metadata": {},
     "output_type": "execute_result"
    }
   ],
   "source": [
    "customer_det[customer_det['Cluster']==1] "
   ]
  },
  {
   "cell_type": "code",
   "execution_count": 104,
   "metadata": {},
   "outputs": [
    {
     "data": {
      "text/html": [
       "<div>\n",
       "<style scoped>\n",
       "    .dataframe tbody tr th:only-of-type {\n",
       "        vertical-align: middle;\n",
       "    }\n",
       "\n",
       "    .dataframe tbody tr th {\n",
       "        vertical-align: top;\n",
       "    }\n",
       "\n",
       "    .dataframe thead th {\n",
       "        text-align: right;\n",
       "    }\n",
       "</style>\n",
       "<table border=\"1\" class=\"dataframe\">\n",
       "  <thead>\n",
       "    <tr style=\"text-align: right;\">\n",
       "      <th></th>\n",
       "      <th>CustomerID</th>\n",
       "      <th>Invoice</th>\n",
       "      <th>Amount</th>\n",
       "      <th>Cluster</th>\n",
       "    </tr>\n",
       "  </thead>\n",
       "  <tbody>\n",
       "    <tr>\n",
       "      <th>0</th>\n",
       "      <td>12346.0</td>\n",
       "      <td>34</td>\n",
       "      <td>77556.46</td>\n",
       "      <td>0</td>\n",
       "    </tr>\n",
       "    <tr>\n",
       "      <th>1</th>\n",
       "      <td>12608.0</td>\n",
       "      <td>16</td>\n",
       "      <td>415.79</td>\n",
       "      <td>0</td>\n",
       "    </tr>\n",
       "    <tr>\n",
       "      <th>2</th>\n",
       "      <td>12745.0</td>\n",
       "      <td>22</td>\n",
       "      <td>723.85</td>\n",
       "      <td>0</td>\n",
       "    </tr>\n",
       "    <tr>\n",
       "      <th>3</th>\n",
       "      <td>12746.0</td>\n",
       "      <td>17</td>\n",
       "      <td>254.55</td>\n",
       "      <td>0</td>\n",
       "    </tr>\n",
       "    <tr>\n",
       "      <th>4</th>\n",
       "      <td>12747.0</td>\n",
       "      <td>257</td>\n",
       "      <td>9276.54</td>\n",
       "      <td>0</td>\n",
       "    </tr>\n",
       "    <tr>\n",
       "      <th>...</th>\n",
       "      <td>...</td>\n",
       "      <td>...</td>\n",
       "      <td>...</td>\n",
       "      <td>...</td>\n",
       "    </tr>\n",
       "    <tr>\n",
       "      <th>5348</th>\n",
       "      <td>18283.0</td>\n",
       "      <td>986</td>\n",
       "      <td>2736.65</td>\n",
       "      <td>0</td>\n",
       "    </tr>\n",
       "    <tr>\n",
       "      <th>5349</th>\n",
       "      <td>18284.0</td>\n",
       "      <td>28</td>\n",
       "      <td>461.68</td>\n",
       "      <td>0</td>\n",
       "    </tr>\n",
       "    <tr>\n",
       "      <th>5350</th>\n",
       "      <td>18285.0</td>\n",
       "      <td>12</td>\n",
       "      <td>427.00</td>\n",
       "      <td>0</td>\n",
       "    </tr>\n",
       "    <tr>\n",
       "      <th>5351</th>\n",
       "      <td>18286.0</td>\n",
       "      <td>67</td>\n",
       "      <td>1296.43</td>\n",
       "      <td>0</td>\n",
       "    </tr>\n",
       "    <tr>\n",
       "      <th>5352</th>\n",
       "      <td>18287.0</td>\n",
       "      <td>155</td>\n",
       "      <td>4182.99</td>\n",
       "      <td>0</td>\n",
       "    </tr>\n",
       "  </tbody>\n",
       "</table>\n",
       "<p>5334 rows × 4 columns</p>\n",
       "</div>"
      ],
      "text/plain": [
       "      CustomerID  Invoice    Amount  Cluster\n",
       "0        12346.0       34  77556.46        0\n",
       "1        12608.0       16    415.79        0\n",
       "2        12745.0       22    723.85        0\n",
       "3        12746.0       17    254.55        0\n",
       "4        12747.0      257   9276.54        0\n",
       "...          ...      ...       ...      ...\n",
       "5348     18283.0      986   2736.65        0\n",
       "5349     18284.0       28    461.68        0\n",
       "5350     18285.0       12    427.00        0\n",
       "5351     18286.0       67   1296.43        0\n",
       "5352     18287.0      155   4182.99        0\n",
       "\n",
       "[5334 rows x 4 columns]"
      ]
     },
     "execution_count": 104,
     "metadata": {},
     "output_type": "execute_result"
    }
   ],
   "source": [
    "customer_det[customer_det['Cluster']==0]"
   ]
  },
  {
   "cell_type": "code",
   "execution_count": 156,
   "metadata": {},
   "outputs": [],
   "source": [
    "invoice_det = data.groupby('Invoice')['Quantity'].sum()\n",
    "invoice_det = invoice_det.reset_index()"
   ]
  },
  {
   "cell_type": "code",
   "execution_count": 157,
   "metadata": {},
   "outputs": [],
   "source": [
    "invoice_item = data.groupby('Invoice')['StockCode'].count()\n",
    "invoice_item = invoice_item.reset_index()"
   ]
  },
  {
   "cell_type": "code",
   "execution_count": 158,
   "metadata": {},
   "outputs": [],
   "source": [
    "invoice_amount = data.groupby('Invoice')['Amount'].sum()\n",
    "invoice_amount = invoice_amount.reset_index()"
   ]
  },
  {
   "cell_type": "code",
   "execution_count": 159,
   "metadata": {},
   "outputs": [],
   "source": [
    "invoice_1 = pd.merge(invoice_det,invoice_item, on = 'Invoice')\n",
    "invoice = pd.merge(invoice_1,invoice_amount,on = 'Invoice')"
   ]
  },
  {
   "cell_type": "code",
   "execution_count": 160,
   "metadata": {},
   "outputs": [
    {
     "data": {
      "text/html": [
       "<div>\n",
       "<style scoped>\n",
       "    .dataframe tbody tr th:only-of-type {\n",
       "        vertical-align: middle;\n",
       "    }\n",
       "\n",
       "    .dataframe tbody tr th {\n",
       "        vertical-align: top;\n",
       "    }\n",
       "\n",
       "    .dataframe thead th {\n",
       "        text-align: right;\n",
       "    }\n",
       "</style>\n",
       "<table border=\"1\" class=\"dataframe\">\n",
       "  <thead>\n",
       "    <tr style=\"text-align: right;\">\n",
       "      <th></th>\n",
       "      <th>Invoice</th>\n",
       "      <th>Quantity</th>\n",
       "      <th>StockCode</th>\n",
       "      <th>Amount</th>\n",
       "    </tr>\n",
       "  </thead>\n",
       "  <tbody>\n",
       "    <tr>\n",
       "      <th>0</th>\n",
       "      <td>489434</td>\n",
       "      <td>166</td>\n",
       "      <td>8</td>\n",
       "      <td>505.30</td>\n",
       "    </tr>\n",
       "    <tr>\n",
       "      <th>1</th>\n",
       "      <td>489435</td>\n",
       "      <td>60</td>\n",
       "      <td>4</td>\n",
       "      <td>145.80</td>\n",
       "    </tr>\n",
       "    <tr>\n",
       "      <th>2</th>\n",
       "      <td>489436</td>\n",
       "      <td>193</td>\n",
       "      <td>19</td>\n",
       "      <td>630.33</td>\n",
       "    </tr>\n",
       "    <tr>\n",
       "      <th>3</th>\n",
       "      <td>489437</td>\n",
       "      <td>145</td>\n",
       "      <td>23</td>\n",
       "      <td>310.75</td>\n",
       "    </tr>\n",
       "    <tr>\n",
       "      <th>4</th>\n",
       "      <td>489438</td>\n",
       "      <td>826</td>\n",
       "      <td>17</td>\n",
       "      <td>2286.24</td>\n",
       "    </tr>\n",
       "    <tr>\n",
       "      <th>...</th>\n",
       "      <td>...</td>\n",
       "      <td>...</td>\n",
       "      <td>...</td>\n",
       "      <td>...</td>\n",
       "    </tr>\n",
       "    <tr>\n",
       "      <th>33541</th>\n",
       "      <td>581582</td>\n",
       "      <td>18</td>\n",
       "      <td>2</td>\n",
       "      <td>29.88</td>\n",
       "    </tr>\n",
       "    <tr>\n",
       "      <th>33542</th>\n",
       "      <td>581583</td>\n",
       "      <td>76</td>\n",
       "      <td>2</td>\n",
       "      <td>124.60</td>\n",
       "    </tr>\n",
       "    <tr>\n",
       "      <th>33543</th>\n",
       "      <td>581584</td>\n",
       "      <td>120</td>\n",
       "      <td>2</td>\n",
       "      <td>140.64</td>\n",
       "    </tr>\n",
       "    <tr>\n",
       "      <th>33544</th>\n",
       "      <td>581585</td>\n",
       "      <td>278</td>\n",
       "      <td>21</td>\n",
       "      <td>329.05</td>\n",
       "    </tr>\n",
       "    <tr>\n",
       "      <th>33545</th>\n",
       "      <td>581586</td>\n",
       "      <td>66</td>\n",
       "      <td>4</td>\n",
       "      <td>339.20</td>\n",
       "    </tr>\n",
       "  </tbody>\n",
       "</table>\n",
       "<p>33546 rows × 4 columns</p>\n",
       "</div>"
      ],
      "text/plain": [
       "       Invoice  Quantity  StockCode   Amount\n",
       "0       489434       166          8   505.30\n",
       "1       489435        60          4   145.80\n",
       "2       489436       193         19   630.33\n",
       "3       489437       145         23   310.75\n",
       "4       489438       826         17  2286.24\n",
       "...        ...       ...        ...      ...\n",
       "33541   581582        18          2    29.88\n",
       "33542   581583        76          2   124.60\n",
       "33543   581584       120          2   140.64\n",
       "33544   581585       278         21   329.05\n",
       "33545   581586        66          4   339.20\n",
       "\n",
       "[33546 rows x 4 columns]"
      ]
     },
     "execution_count": 160,
     "metadata": {},
     "output_type": "execute_result"
    }
   ],
   "source": [
    "invoice"
   ]
  },
  {
   "cell_type": "code",
   "execution_count": 161,
   "metadata": {},
   "outputs": [
    {
     "data": {
      "text/html": [
       "<div>\n",
       "<style scoped>\n",
       "    .dataframe tbody tr th:only-of-type {\n",
       "        vertical-align: middle;\n",
       "    }\n",
       "\n",
       "    .dataframe tbody tr th {\n",
       "        vertical-align: top;\n",
       "    }\n",
       "\n",
       "    .dataframe thead th {\n",
       "        text-align: right;\n",
       "    }\n",
       "</style>\n",
       "<table border=\"1\" class=\"dataframe\">\n",
       "  <thead>\n",
       "    <tr style=\"text-align: right;\">\n",
       "      <th></th>\n",
       "      <th>Quantity</th>\n",
       "      <th>StockCode</th>\n",
       "    </tr>\n",
       "  </thead>\n",
       "  <tbody>\n",
       "    <tr>\n",
       "      <th>0</th>\n",
       "      <td>-0.100991</td>\n",
       "      <td>-0.559122</td>\n",
       "    </tr>\n",
       "    <tr>\n",
       "      <th>1</th>\n",
       "      <td>-0.214988</td>\n",
       "      <td>-0.723317</td>\n",
       "    </tr>\n",
       "    <tr>\n",
       "      <th>2</th>\n",
       "      <td>-0.071954</td>\n",
       "      <td>-0.107586</td>\n",
       "    </tr>\n",
       "    <tr>\n",
       "      <th>3</th>\n",
       "      <td>-0.123575</td>\n",
       "      <td>0.056609</td>\n",
       "    </tr>\n",
       "    <tr>\n",
       "      <th>4</th>\n",
       "      <td>0.608800</td>\n",
       "      <td>-0.189684</td>\n",
       "    </tr>\n",
       "    <tr>\n",
       "      <th>...</th>\n",
       "      <td>...</td>\n",
       "      <td>...</td>\n",
       "    </tr>\n",
       "    <tr>\n",
       "      <th>33541</th>\n",
       "      <td>-0.260156</td>\n",
       "      <td>-0.805415</td>\n",
       "    </tr>\n",
       "    <tr>\n",
       "      <th>33542</th>\n",
       "      <td>-0.197781</td>\n",
       "      <td>-0.805415</td>\n",
       "    </tr>\n",
       "    <tr>\n",
       "      <th>33543</th>\n",
       "      <td>-0.150461</td>\n",
       "      <td>-0.805415</td>\n",
       "    </tr>\n",
       "    <tr>\n",
       "      <th>33544</th>\n",
       "      <td>0.019458</td>\n",
       "      <td>-0.025489</td>\n",
       "    </tr>\n",
       "    <tr>\n",
       "      <th>33545</th>\n",
       "      <td>-0.208535</td>\n",
       "      <td>-0.723317</td>\n",
       "    </tr>\n",
       "  </tbody>\n",
       "</table>\n",
       "<p>33546 rows × 2 columns</p>\n",
       "</div>"
      ],
      "text/plain": [
       "       Quantity  StockCode\n",
       "0     -0.100991  -0.559122\n",
       "1     -0.214988  -0.723317\n",
       "2     -0.071954  -0.107586\n",
       "3     -0.123575   0.056609\n",
       "4      0.608800  -0.189684\n",
       "...         ...        ...\n",
       "33541 -0.260156  -0.805415\n",
       "33542 -0.197781  -0.805415\n",
       "33543 -0.150461  -0.805415\n",
       "33544  0.019458  -0.025489\n",
       "33545 -0.208535  -0.723317\n",
       "\n",
       "[33546 rows x 2 columns]"
      ]
     },
     "execution_count": 161,
     "metadata": {},
     "output_type": "execute_result"
    }
   ],
   "source": [
    "from sklearn.preprocessing import StandardScaler\n",
    "scaler = StandardScaler()\n",
    "scaled = scaler.fit_transform(invoice.drop(['Invoice','Amount'],axis=1)) \n",
    "scaled = pd.DataFrame(scaled,columns = ['Quantity','StockCode'])\n",
    "scaled"
   ]
  },
  {
   "cell_type": "code",
   "execution_count": 162,
   "metadata": {},
   "outputs": [],
   "source": [
    "from sklearn.cluster import KMeans\n",
    "from sklearn.metrics import silhouette_score\n",
    "scores = []\n",
    "silhouette = {}\n",
    "for i in range(2,10):\n",
    "    kmeans = KMeans(n_clusters = i, max_iter = 40).fit(scaled)\n",
    "    cluster_labels = kmeans.labels_\n",
    "    silhouette[i] = silhouette_score(scaled,cluster_labels)\n",
    "    scores.append(kmeans.inertia_) "
   ]
  },
  {
   "cell_type": "code",
   "execution_count": 163,
   "metadata": {},
   "outputs": [
    {
     "data": {
      "text/plain": [
       "[<matplotlib.lines.Line2D at 0x25188f48388>]"
      ]
     },
     "execution_count": 163,
     "metadata": {},
     "output_type": "execute_result"
    },
    {
     "data": {
      "image/png": "[encoded data removed]",
      "text/plain": [
       "<Figure size 432x288 with 1 Axes>"
      ]
     },
     "metadata": {
      "needs_background": "light"
     },
     "output_type": "display_data"
    }
   ],
   "source": [
    "plt.plot(range(2,10,1),scores) "
   ]
  },
  {
   "cell_type": "code",
   "execution_count": 164,
   "metadata": {},
   "outputs": [
    {
     "data": {
      "text/plain": [
       "{2: 0.9862036450002458,\n",
       " 3: 0.6663916369874595,\n",
       " 4: 0.5722988492093594,\n",
       " 5: 0.5743404185929059,\n",
       " 6: 0.4951005453550455,\n",
       " 7: 0.480601779549858,\n",
       " 8: 0.4878647095670597,\n",
       " 9: 0.46721708065313505}"
      ]
     },
     "execution_count": 164,
     "metadata": {},
     "output_type": "execute_result"
    }
   ],
   "source": [
    "silhouette"
   ]
  },
  {
   "cell_type": "code",
   "execution_count": 165,
   "metadata": {},
   "outputs": [],
   "source": [
    "# Final Model\n",
    "\n",
    "kmeans = KMeans(n_clusters = 2).fit(scaled)\n",
    "cluster_labels = kmeans.labels_\n",
    "invoice['Cluster'] = cluster_labels "
   ]
  },
  {
   "cell_type": "code",
   "execution_count": 166,
   "metadata": {},
   "outputs": [
    {
     "data": {
      "text/html": [
       "<div>\n",
       "<style scoped>\n",
       "    .dataframe tbody tr th:only-of-type {\n",
       "        vertical-align: middle;\n",
       "    }\n",
       "\n",
       "    .dataframe tbody tr th {\n",
       "        vertical-align: top;\n",
       "    }\n",
       "\n",
       "    .dataframe thead th {\n",
       "        text-align: right;\n",
       "    }\n",
       "</style>\n",
       "<table border=\"1\" class=\"dataframe\">\n",
       "  <thead>\n",
       "    <tr style=\"text-align: right;\">\n",
       "      <th></th>\n",
       "      <th>Invoice</th>\n",
       "      <th>Quantity</th>\n",
       "      <th>StockCode</th>\n",
       "      <th>Amount</th>\n",
       "      <th>Cluster</th>\n",
       "    </tr>\n",
       "  </thead>\n",
       "  <tbody>\n",
       "    <tr>\n",
       "      <th>4310</th>\n",
       "      <td>502269</td>\n",
       "      <td>40000</td>\n",
       "      <td>4</td>\n",
       "      <td>10000.00</td>\n",
       "      <td>1</td>\n",
       "    </tr>\n",
       "    <tr>\n",
       "      <th>12314</th>\n",
       "      <td>524174</td>\n",
       "      <td>87167</td>\n",
       "      <td>45</td>\n",
       "      <td>11880.84</td>\n",
       "      <td>1</td>\n",
       "    </tr>\n",
       "    <tr>\n",
       "      <th>18643</th>\n",
       "      <td>541431</td>\n",
       "      <td>74215</td>\n",
       "      <td>1</td>\n",
       "      <td>77183.60</td>\n",
       "      <td>1</td>\n",
       "    </tr>\n",
       "    <tr>\n",
       "      <th>33520</th>\n",
       "      <td>581483</td>\n",
       "      <td>80995</td>\n",
       "      <td>1</td>\n",
       "      <td>168469.60</td>\n",
       "      <td>1</td>\n",
       "    </tr>\n",
       "  </tbody>\n",
       "</table>\n",
       "</div>"
      ],
      "text/plain": [
       "       Invoice  Quantity  StockCode     Amount  Cluster\n",
       "4310    502269     40000          4   10000.00        1\n",
       "12314   524174     87167         45   11880.84        1\n",
       "18643   541431     74215          1   77183.60        1\n",
       "33520   581483     80995          1  168469.60        1"
      ]
     },
     "execution_count": 166,
     "metadata": {},
     "output_type": "execute_result"
    }
   ],
   "source": [
    "invoice[invoice['Cluster']==1]"
   ]
  },
  {
   "cell_type": "code",
   "execution_count": 147,
   "metadata": {},
   "outputs": [
    {
     "data": {
      "text/html": [
       "<div>\n",
       "<style scoped>\n",
       "    .dataframe tbody tr th:only-of-type {\n",
       "        vertical-align: middle;\n",
       "    }\n",
       "\n",
       "    .dataframe tbody tr th {\n",
       "        vertical-align: top;\n",
       "    }\n",
       "\n",
       "    .dataframe thead th {\n",
       "        text-align: right;\n",
       "    }\n",
       "</style>\n",
       "<table border=\"1\" class=\"dataframe\">\n",
       "  <thead>\n",
       "    <tr style=\"text-align: right;\">\n",
       "      <th></th>\n",
       "      <th>Invoice</th>\n",
       "      <th>Quantity</th>\n",
       "      <th>StockCode</th>\n",
       "      <th>Amount</th>\n",
       "      <th>Cluster</th>\n",
       "    </tr>\n",
       "  </thead>\n",
       "  <tbody>\n",
       "    <tr>\n",
       "      <th>0</th>\n",
       "      <td>489434</td>\n",
       "      <td>166</td>\n",
       "      <td>8</td>\n",
       "      <td>505.30</td>\n",
       "      <td>0</td>\n",
       "    </tr>\n",
       "    <tr>\n",
       "      <th>1</th>\n",
       "      <td>489435</td>\n",
       "      <td>60</td>\n",
       "      <td>4</td>\n",
       "      <td>145.80</td>\n",
       "      <td>0</td>\n",
       "    </tr>\n",
       "    <tr>\n",
       "      <th>2</th>\n",
       "      <td>489436</td>\n",
       "      <td>193</td>\n",
       "      <td>19</td>\n",
       "      <td>630.33</td>\n",
       "      <td>0</td>\n",
       "    </tr>\n",
       "    <tr>\n",
       "      <th>3</th>\n",
       "      <td>489437</td>\n",
       "      <td>145</td>\n",
       "      <td>23</td>\n",
       "      <td>310.75</td>\n",
       "      <td>0</td>\n",
       "    </tr>\n",
       "    <tr>\n",
       "      <th>4</th>\n",
       "      <td>489438</td>\n",
       "      <td>826</td>\n",
       "      <td>17</td>\n",
       "      <td>2286.24</td>\n",
       "      <td>0</td>\n",
       "    </tr>\n",
       "    <tr>\n",
       "      <th>...</th>\n",
       "      <td>...</td>\n",
       "      <td>...</td>\n",
       "      <td>...</td>\n",
       "      <td>...</td>\n",
       "      <td>...</td>\n",
       "    </tr>\n",
       "    <tr>\n",
       "      <th>33541</th>\n",
       "      <td>581582</td>\n",
       "      <td>18</td>\n",
       "      <td>2</td>\n",
       "      <td>29.88</td>\n",
       "      <td>0</td>\n",
       "    </tr>\n",
       "    <tr>\n",
       "      <th>33542</th>\n",
       "      <td>581583</td>\n",
       "      <td>76</td>\n",
       "      <td>2</td>\n",
       "      <td>124.60</td>\n",
       "      <td>0</td>\n",
       "    </tr>\n",
       "    <tr>\n",
       "      <th>33543</th>\n",
       "      <td>581584</td>\n",
       "      <td>120</td>\n",
       "      <td>2</td>\n",
       "      <td>140.64</td>\n",
       "      <td>0</td>\n",
       "    </tr>\n",
       "    <tr>\n",
       "      <th>33544</th>\n",
       "      <td>581585</td>\n",
       "      <td>278</td>\n",
       "      <td>21</td>\n",
       "      <td>329.05</td>\n",
       "      <td>0</td>\n",
       "    </tr>\n",
       "    <tr>\n",
       "      <th>33545</th>\n",
       "      <td>581586</td>\n",
       "      <td>66</td>\n",
       "      <td>4</td>\n",
       "      <td>339.20</td>\n",
       "      <td>0</td>\n",
       "    </tr>\n",
       "  </tbody>\n",
       "</table>\n",
       "<p>33543 rows × 5 columns</p>\n",
       "</div>"
      ],
      "text/plain": [
       "       Invoice  Quantity  StockCode   Amount  Cluster\n",
       "0       489434       166          8   505.30        0\n",
       "1       489435        60          4   145.80        0\n",
       "2       489436       193         19   630.33        0\n",
       "3       489437       145         23   310.75        0\n",
       "4       489438       826         17  2286.24        0\n",
       "...        ...       ...        ...      ...      ...\n",
       "33541   581582        18          2    29.88        0\n",
       "33542   581583        76          2   124.60        0\n",
       "33543   581584       120          2   140.64        0\n",
       "33544   581585       278         21   329.05        0\n",
       "33545   581586        66          4   339.20        0\n",
       "\n",
       "[33543 rows x 5 columns]"
      ]
     },
     "execution_count": 147,
     "metadata": {},
     "output_type": "execute_result"
    }
   ],
   "source": [
    "invoice[invoice['Cluster']==0]"
   ]
  },
  {
   "cell_type": "code",
   "execution_count": 153,
   "metadata": {},
   "outputs": [
    {
     "data": {
      "text/html": [
       "<div>\n",
       "<style scoped>\n",
       "    .dataframe tbody tr th:only-of-type {\n",
       "        vertical-align: middle;\n",
       "    }\n",
       "\n",
       "    .dataframe tbody tr th {\n",
       "        vertical-align: top;\n",
       "    }\n",
       "\n",
       "    .dataframe thead th {\n",
       "        text-align: right;\n",
       "    }\n",
       "</style>\n",
       "<table border=\"1\" class=\"dataframe\">\n",
       "  <thead>\n",
       "    <tr style=\"text-align: right;\">\n",
       "      <th></th>\n",
       "      <th>Quantity</th>\n",
       "      <th>Price</th>\n",
       "      <th>CustomerID</th>\n",
       "      <th>Amount</th>\n",
       "      <th>Recency</th>\n",
       "    </tr>\n",
       "  </thead>\n",
       "  <tbody>\n",
       "    <tr>\n",
       "      <th>count</th>\n",
       "      <td>7017.000000</td>\n",
       "      <td>7017.000000</td>\n",
       "      <td>7017.000000</td>\n",
       "      <td>7017.000000</td>\n",
       "      <td>7017</td>\n",
       "    </tr>\n",
       "    <tr>\n",
       "      <th>mean</th>\n",
       "      <td>330.815306</td>\n",
       "      <td>1.323226</td>\n",
       "      <td>15730.321362</td>\n",
       "      <td>385.636159</td>\n",
       "      <td>369 days 10:44:27.541684</td>\n",
       "    </tr>\n",
       "    <tr>\n",
       "      <th>std</th>\n",
       "      <td>1396.956738</td>\n",
       "      <td>1.433025</td>\n",
       "      <td>1730.346648</td>\n",
       "      <td>2271.179936</td>\n",
       "      <td>222 days 05:58:13.094006</td>\n",
       "    </tr>\n",
       "    <tr>\n",
       "      <th>min</th>\n",
       "      <td>115.000000</td>\n",
       "      <td>0.000000</td>\n",
       "      <td>12346.000000</td>\n",
       "      <td>0.000000</td>\n",
       "      <td>0 days 00:53:00</td>\n",
       "    </tr>\n",
       "    <tr>\n",
       "      <th>25%</th>\n",
       "      <td>144.000000</td>\n",
       "      <td>0.420000</td>\n",
       "      <td>13881.000000</td>\n",
       "      <td>93.600000</td>\n",
       "      <td>158 days 02:29:00</td>\n",
       "    </tr>\n",
       "    <tr>\n",
       "      <th>50%</th>\n",
       "      <td>200.000000</td>\n",
       "      <td>0.850000</td>\n",
       "      <td>15980.000000</td>\n",
       "      <td>201.600000</td>\n",
       "      <td>393 days 01:18:00</td>\n",
       "    </tr>\n",
       "    <tr>\n",
       "      <th>75%</th>\n",
       "      <td>300.000000</td>\n",
       "      <td>1.650000</td>\n",
       "      <td>17381.000000</td>\n",
       "      <td>367.200000</td>\n",
       "      <td>560 days 02:13:00</td>\n",
       "    </tr>\n",
       "    <tr>\n",
       "      <th>max</th>\n",
       "      <td>80995.000000</td>\n",
       "      <td>20.800000</td>\n",
       "      <td>18279.000000</td>\n",
       "      <td>168469.600000</td>\n",
       "      <td>738 days 02:03:00</td>\n",
       "    </tr>\n",
       "  </tbody>\n",
       "</table>\n",
       "</div>"
      ],
      "text/plain": [
       "           Quantity        Price    CustomerID         Amount  \\\n",
       "count   7017.000000  7017.000000   7017.000000    7017.000000   \n",
       "mean     330.815306     1.323226  15730.321362     385.636159   \n",
       "std     1396.956738     1.433025   1730.346648    2271.179936   \n",
       "min      115.000000     0.000000  12346.000000       0.000000   \n",
       "25%      144.000000     0.420000  13881.000000      93.600000   \n",
       "50%      200.000000     0.850000  15980.000000     201.600000   \n",
       "75%      300.000000     1.650000  17381.000000     367.200000   \n",
       "max    80995.000000    20.800000  18279.000000  168469.600000   \n",
       "\n",
       "                        Recency  \n",
       "count                      7017  \n",
       "mean   369 days 10:44:27.541684  \n",
       "std    222 days 05:58:13.094006  \n",
       "min             0 days 00:53:00  \n",
       "25%           158 days 02:29:00  \n",
       "50%           393 days 01:18:00  \n",
       "75%           560 days 02:13:00  \n",
       "max           738 days 02:03:00  "
      ]
     },
     "execution_count": 153,
     "metadata": {},
     "output_type": "execute_result"
    }
   ],
   "source": [
    "data[data['Quantity'] > ].describe()"
   ]
  },
  {
   "cell_type": "code",
   "execution_count": null,
   "metadata": {},
   "outputs": [],
   "source": []
  }
 ],
 "metadata": {
  "kernelspec": {
   "display_name": "Python 3",
   "language": "python",
   "name": "python3"
  },
  "language_info": {
   "codemirror_mode": {
    "name": "ipython",
    "version": 3
   },
   "file_extension": ".py",
   "mimetype": "text/x-python",
   "name": "python",
   "nbconvert_exporter": "python",
   "pygments_lexer": "ipython3",
   "version": "3.7.6"
  }
 },
 "nbformat": 4,
 "nbformat_minor": 4
}
